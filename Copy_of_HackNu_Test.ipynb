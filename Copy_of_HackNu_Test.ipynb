{
  "nbformat": 4,
  "nbformat_minor": 0,
  "metadata": {
    "colab": {
      "name": "Copy of HackNu Test.ipynb",
      "provenance": [],
      "collapsed_sections": []
    },
    "kernelspec": {
      "name": "python3",
      "display_name": "Python 3"
    },
    "language_info": {
      "name": "python"
    }
  },
  "cells": [
    {
      "cell_type": "code",
      "metadata": {
        "id": "Tzrddj7bMoxw"
      },
      "source": [
        "import numpy as np # linear algebra\n",
        "import pandas as pd # data processing, CSV file I/O (e.g. pd.read_csv)\n",
        "import spacy\n",
        "import string\n",
        "import gensim\n",
        "import operator\n",
        "import re\n",
        "import time"
      ],
      "execution_count": 5,
      "outputs": []
    },
    {
      "cell_type": "code",
      "metadata": {
        "id": "GNkeUKeRNUYz"
      },
      "source": [
        "from google.colab import drive\n",
        "\n",
        "def readArticle(name):\n",
        "  drive.mount('/content/drive', force_remount=True) \n",
        "  articles = pd.read_csv('drive/My Drive/'+name)\n",
        "\n",
        "  return articles"
      ],
      "execution_count": 16,
      "outputs": []
    },
    {
      "cell_type": "code",
      "metadata": {
        "id": "ejfgGnj83Wdf"
      },
      "source": [
        "from itertools import groupby\n",
        "import re \n",
        "\n",
        "def removeSuffixsSentene(sentence):\n",
        "  \n",
        "    suffixList = ['s', 'es', 'ed', 'ing', 'ly', 'er', 'or', 'ion', 'tion', 'ation', 'ition', \n",
        "                  'ible', 'able', 'al', 'ial', 'y', 'ness', 'ity', 'ty', 'ment', 'ic', 'ous', \n",
        "                  'eous', 'ious', 'en', 'er', 'ive', 'ative', 'itive', 'ful', 'less', 'est'] #add more as nessecary\n",
        "    for item in suffixList:\n",
        "        if sentence.endswith(item):\n",
        "            sentence = sentence[:-len(item)]\n",
        "            repeatLetters = next((True for char, group in groupby(sentence)\n",
        "                                  if sum(1 for _ in group) >= 2), False)\n",
        "            if repeatLetters:\n",
        "                sentence = sentence[:-1]\n",
        "    return sentence\n",
        "\n",
        "print(removeSuffixsSentene('running jj'))\n",
        "col = ['running', 'congressional', 'republicans', 'new', 'fear', 'come', 'health', 'care', 'lawsuit', 'obama', 'administration', 'win', 'incoming', 'trump', 'administration', 'choose', 'longer', 'defend', 'executive', 'branch', 'suit', 'challenge', 'administration', 'authority', 'spend', 'billion', 'dollar', 'health', 'insurance', 'subsidy', 'americans', 'handing', 'house', 'republicans', 'big', 'victory', 'issue', 'sudden', 'loss', 'dispute', 'subsidy', 'conceivably', 'cause', 'health', 'care', 'program', 'implode', 'leave', 'million', 'people', 'access', 'health', 'insurance', 'republicans', 'prepare', 'replacement', 'lead', 'chaos', 'insurance', 'market', 'spur', 'political', 'backlash', 'republicans', 'gain', 'control', 'government', 'stave', 'outcome', 'republicans', 'find', 'awkward', 'position', 'appropriate', 'huge', 'sum', 'temporarily', 'prop', 'obama', 'health', 'care', 'law', 'anger', 'conservative', 'voter', 'demand', 'end', 'law', 'year', 'twist', 'donald', 'trump', 'administration', 'worry', 'preserve', 'executive', 'branch', 'prerogative', 'choose', 'fight', 'republican', 'ally', 'house', 'central', 'question', 'dispute', 'eager', 'avoid', 'ugly', 'political', 'pileup', 'republicans', 'capitol', 'hill', 'trump', 'transition', 'team', 'game', 'handle', 'lawsuit', 'election', 'limbo', 'late', 'february', 'united', 'states', 'court', 'appeals', 'district', 'columbia', 'circuit', 'ready', 'divulge', 'strategy', 'pende', 'litigation', 'involve', 'obama', 'administration', 'congress', 'inappropriate', 'comment', 'phillip', 'blando', 'spokesman', 'trump', 'transition', 'effort', 'office', 'trump', 'administration', 'evaluate', 'case', 'relate', 'aspect', 'affordable', 'care', 'act', 'potentially', 'decision', 'judge', 'rosemary', 'collyer', 'rule', 'house', 'republicans', 'standing', 'sue', 'executive', 'branch', 'spending', 'dispute', 'obama', 'administration', 'distribute', 'health', 'insurance', 'subsidy', 'violation', 'constitution', 'approval', 'congress', 'justice', 'department', 'confident', 'judge', 'collyer', 'decision', 'reverse', 'quickly', 'appeal', 'subsidy', 'remain', 'place', 'appeal', 'successfully', 'seek', 'temporary', 'halt', 'proceeding', 'trump', 'win', 'house', 'republicans', 'month', 'tell', 'court', 'transition', 'team', 'currently', 'discuss', 'potential', 'option', 'resolution', 'matter', 'effect', 'inauguration', 'jan', 'suspension', 'case', 'house', 'lawyer', 'provide', 'future', 'administration', 'time', 'consider', 'continue', 'prosecute', 'resolve', 'appeal', 'republican', 'leadership', 'official', 'house', 'acknowledge', 'possibility', 'cascading', 'effect', 'payment', 'total', 'estimate', 'billion', 'suddenly', 'stop', 'insurer', 'receive', 'subsidy', 'exchange', 'pay', 'cost', 'deductible', 'eligible', 'consumer', 'race', 'drop', 'coverage', 'lose', 'money', 'loss', 'subsidy', 'destabilize', 'entire', 'program', 'cause', 'lack', 'confidence', 'lead', 'insurer', 'seek', 'quick', 'exit', 'anticipate', 'trump', 'administration', 'incline', 'mount', 'vigorous', 'fight', 'house', 'republicans', 'dim', 'view', 'health', 'care', 'law', 'team', 'lawyer', 'month', 'seek', 'intervene', 'case', 'behalf', 'participant', 'health', 'care', 'program', 'request', 'lawyer', 'predict', 'deal', 'house', 'republicans', 'new', 'administration', 'dismiss', 'settle', 'case', 'produce', 'devastating', 'consequence', 'individual', 'receive', 'reduction', 'nation', 'health', 'insurance', 'health', 'care', 'system', 'generally', 'matter', 'happen', 'house', 'republicans', 'want', 'prevail', 'overarch', 'concept', 'congressional', 'power', 'purse', 'right', 'congress', 'sue', 'executive', 'branch', 'violate', 'constitution', 'regard', 'spend', 'power', 'house', 'republicans', 'contend', 'congress', 'appropriate', 'money', 'subsidy', 'require', 'constitution', 'suit', 'initially', 'champion', 'john', 'boehner', 'house', 'speaker', 'time', 'later', 'house', 'committee', 'report', 'republicans', 'assert', 'administration', 'desperate', 'funding', 'require', 'treasury', 'department', 'provide', 'despite', 'widespread', 'internal', 'skepticism', 'spending', 'proper', 'white', 'house', 'spending', 'permanent', 'law', 'pass', 'annual', 'appropriation', 'require', 'administration', 'initially', 'seek', 'important', 'house', 'republicans', 'judge', 'collyer', 'find', 'congress', 'standing', 'sue', 'white', 'house', 'issue', 'ruling', 'legal', 'expert', 'flaw', 'want', 'precedent', 'set', 'restore', 'congressional', 'leverage', 'executive', 'branch', 'spend', 'power', 'standing', 'trump', 'administration', 'come', 'pressure', 'advocate', 'presidential', 'authority', 'fight', 'house', 'matter', 'share', 'view', 'health', 'care', 'precedent', 'broad', 'repercussion', 'complicated', 'set', 'dynamic', 'illustrate', 'quick', 'legal', 'victory', 'house', 'trump', 'era', 'come', 'cost', 'republicans', 'anticipate', 'obama', 'white', 'house']\n",
        "# print(removeSuffixsSentene(col))\n",
        "\n",
        "for i, word in enumerate(col):\n",
        "  col[i] = removeSuffixsSentene(word)\n",
        "print(col)"
      ],
      "execution_count": null,
      "outputs": []
    },
    {
      "cell_type": "code",
      "metadata": {
        "id": "HvzgCTj8NZVQ"
      },
      "source": [
        "from spacy.lang.en.stop_words import STOP_WORDS\n",
        "import sys \n",
        "\n",
        "def spacy_tokenizer(sentence, spacy_nlp, punctuations, stop_words):\n",
        "\n",
        "    # sys.stdout.write(\"%07d\\b\\b\\b\\b\\b\\b\\b\" % COUNTER)\n",
        "    \n",
        "    sentence = re.sub('\\'','',sentence)  #remove distracting single quotes\n",
        "    sentence = re.sub('\\w*\\d\\w*','',sentence) #remove digits adnd words containing digits\n",
        "    sentence = re.sub(' +',' ',sentence) #replace extra spaces with single space\n",
        "    sentence = re.sub(r'\\n: \\'\\'.*','',sentence) #remove unwanted lines starting from special charcters\n",
        "    sentence = re.sub(r'\\n!.*','',sentence)\n",
        "    sentence = re.sub(r'^:\\'\\'.*','',sentence)\n",
        "    sentence = re.sub(r'\\n',' ',sentence) #remove non-breaking new line characters\n",
        "    sentence = re.sub(r'[^\\w\\s]',' ',sentence) #remove punctunations\n",
        "    # sentence = removeSuffixs(sentence)\n",
        "    \n",
        "\n",
        "    tokens = spacy_nlp(sentence)#creating token object\n",
        "    tokens = [word.lemma_.lower().strip() if word.lemma_ != \"-PRON-\" else word.lower_ for word in tokens] #lower, strip and lemmatize\n",
        "    tokens = [word for word in tokens if word not in stop_words and word not in punctuations and len(word) > 2] #remove stopwords, and exclude words less than 2 characters\n",
        "    \n",
        "    return tokens"
      ],
      "execution_count": 8,
      "outputs": []
    },
    {
      "cell_type": "code",
      "metadata": {
        "id": "DtkN51diiQ4r"
      },
      "source": [
        "def save_results(iteration, df, name, saveWhole=False):\n",
        "  if saveWhole:\n",
        "    df.to_csv('drive/My Drive/' + iteration + '_' + name)\n",
        "  else: \n",
        "    df[['content_tokenized']].to_csv('drive/My Drive/Colab Notebooks/results/' + iteration + '_' + name)\n"
      ],
      "execution_count": 9,
      "outputs": []
    },
    {
      "cell_type": "code",
      "metadata": {
        "colab": {
          "base_uri": "https://localhost:8080/",
          "height": 357
        },
        "id": "IpYDEXiZQRF1",
        "outputId": "977b7525-b980-4629-8f94-8689b96a3b75"
      },
      "source": [
        "iter = 'test1'\n",
        "\n",
        "articles = readArticle('articles1.csv')\n",
        "articles = articles.iloc[0:100]\n",
        "\n",
        "tic = time.perf_counter()\n",
        "spacy_nlp = spacy.load('en_core_web_sm')\n",
        "punctuations = string.punctuation\n",
        "stop_words = spacy.lang.en.stop_words.STOP_WORDS\n",
        "\n",
        "%time articles1['content_tokenized'] = articles1['content'].map(lambda x: spacy_tokenizer(x, spacy_nlp, punctuations, stop_words))\n",
        "\n",
        "toc = time.perf_counter()\n",
        "save_results(iter, articles1, f'sm_{toc - tic:0.4f}_sec_results.csv')\n",
        "\n",
        "articles1.head()"
      ],
      "execution_count": null,
      "outputs": [
        {
          "output_type": "stream",
          "text": [
            "Mounted at /content/drive\n",
            "CPU times: user 20.5 s, sys: 230 ms, total: 20.7 s\n",
            "Wall time: 20.8 s\n"
          ],
          "name": "stdout"
        },
        {
          "output_type": "execute_result",
          "data": {
            "text/html": [
              "<div>\n",
              "<style scoped>\n",
              "    .dataframe tbody tr th:only-of-type {\n",
              "        vertical-align: middle;\n",
              "    }\n",
              "\n",
              "    .dataframe tbody tr th {\n",
              "        vertical-align: top;\n",
              "    }\n",
              "\n",
              "    .dataframe thead th {\n",
              "        text-align: right;\n",
              "    }\n",
              "</style>\n",
              "<table border=\"1\" class=\"dataframe\">\n",
              "  <thead>\n",
              "    <tr style=\"text-align: right;\">\n",
              "      <th></th>\n",
              "      <th>Unnamed: 0</th>\n",
              "      <th>id</th>\n",
              "      <th>title</th>\n",
              "      <th>publication</th>\n",
              "      <th>author</th>\n",
              "      <th>date</th>\n",
              "      <th>year</th>\n",
              "      <th>month</th>\n",
              "      <th>url</th>\n",
              "      <th>content</th>\n",
              "      <th>content_tokenized</th>\n",
              "    </tr>\n",
              "  </thead>\n",
              "  <tbody>\n",
              "    <tr>\n",
              "      <th>0</th>\n",
              "      <td>0</td>\n",
              "      <td>17283</td>\n",
              "      <td>House Republicans Fret About Winning Their Hea...</td>\n",
              "      <td>New York Times</td>\n",
              "      <td>Carl Hulse</td>\n",
              "      <td>2016-12-31</td>\n",
              "      <td>2016.0</td>\n",
              "      <td>12.0</td>\n",
              "      <td>NaN</td>\n",
              "      <td>WASHINGTON  —   Congressional Republicans have...</td>\n",
              "      <td>[washington, congressional, republicans, new, ...</td>\n",
              "    </tr>\n",
              "    <tr>\n",
              "      <th>1</th>\n",
              "      <td>1</td>\n",
              "      <td>17284</td>\n",
              "      <td>Rift Between Officers and Residents as Killing...</td>\n",
              "      <td>New York Times</td>\n",
              "      <td>Benjamin Mueller and Al Baker</td>\n",
              "      <td>2017-06-19</td>\n",
              "      <td>2017.0</td>\n",
              "      <td>6.0</td>\n",
              "      <td>NaN</td>\n",
              "      <td>After the bullet shells get counted, the blood...</td>\n",
              "      <td>[bullet, shell, count, blood, dry, votive, can...</td>\n",
              "    </tr>\n",
              "    <tr>\n",
              "      <th>2</th>\n",
              "      <td>2</td>\n",
              "      <td>17285</td>\n",
              "      <td>Tyrus Wong, ‘Bambi’ Artist Thwarted by Racial ...</td>\n",
              "      <td>New York Times</td>\n",
              "      <td>Margalit Fox</td>\n",
              "      <td>2017-01-06</td>\n",
              "      <td>2017.0</td>\n",
              "      <td>1.0</td>\n",
              "      <td>NaN</td>\n",
              "      <td>When Walt Disney’s “Bambi” opened in 1942, cri...</td>\n",
              "      <td>[walt, disney, bambi, open, critic, praise, sp...</td>\n",
              "    </tr>\n",
              "    <tr>\n",
              "      <th>3</th>\n",
              "      <td>3</td>\n",
              "      <td>17286</td>\n",
              "      <td>Among Deaths in 2016, a Heavy Toll in Pop Musi...</td>\n",
              "      <td>New York Times</td>\n",
              "      <td>William McDonald</td>\n",
              "      <td>2017-04-10</td>\n",
              "      <td>2017.0</td>\n",
              "      <td>4.0</td>\n",
              "      <td>NaN</td>\n",
              "      <td>Death may be the great equalizer, but it isn’t...</td>\n",
              "      <td>[death, great, equalizer, isn, necessarily, ev...</td>\n",
              "    </tr>\n",
              "    <tr>\n",
              "      <th>4</th>\n",
              "      <td>4</td>\n",
              "      <td>17287</td>\n",
              "      <td>Kim Jong-un Says North Korea Is Preparing to T...</td>\n",
              "      <td>New York Times</td>\n",
              "      <td>Choe Sang-Hun</td>\n",
              "      <td>2017-01-02</td>\n",
              "      <td>2017.0</td>\n",
              "      <td>1.0</td>\n",
              "      <td>NaN</td>\n",
              "      <td>SEOUL, South Korea  —   North Korea’s leader, ...</td>\n",
              "      <td>[seoul, south, korea, north, korea, leader, ki...</td>\n",
              "    </tr>\n",
              "  </tbody>\n",
              "</table>\n",
              "</div>"
            ],
            "text/plain": [
              "   Unnamed: 0  ...                                  content_tokenized\n",
              "0           0  ...  [washington, congressional, republicans, new, ...\n",
              "1           1  ...  [bullet, shell, count, blood, dry, votive, can...\n",
              "2           2  ...  [walt, disney, bambi, open, critic, praise, sp...\n",
              "3           3  ...  [death, great, equalizer, isn, necessarily, ev...\n",
              "4           4  ...  [seoul, south, korea, north, korea, leader, ki...\n",
              "\n",
              "[5 rows x 11 columns]"
            ]
          },
          "metadata": {
            "tags": []
          },
          "execution_count": 86
        }
      ]
    },
    {
      "cell_type": "code",
      "metadata": {
        "id": "8MqlvLtzw9YH"
      },
      "source": [
        "# Building Word Dictionary\n",
        "from gensim import corpora\n",
        "\n",
        "def buildDictionary(articles): \n",
        "  %time dictionary = corpora.Dictionary(articles) \n",
        "  dictionary.filter_extremes(no_below=5, no_above=0.2)#filter out terms which occurs in less than 4 documents and more than 20% of the documents.\n",
        "  #list of few which which can be further removed\n",
        "  stoplist = set('hello and if this can would should could tell ask stop come go')\n",
        "  stop_ids = [dictionary.token2id[stopword] for stopword in stoplist if stopword in dictionary.token2id]\n",
        "  dictionary.filter_tokens(stop_ids)\n",
        "  return dictionary\n",
        "\n",
        "def feature_extraction(articles, dictionary): # (Bag of Words)\n",
        "  corpus = [dictionary.doc2bow(desc) for desc in articles]\n",
        "  # word_frequencies = [[(dictionary[id], frequency) for id, frequency in line] for line in corpus[0:3]]\n",
        "  return corpus\n",
        "\n",
        "def buildModels(dictionary, corpus): # Tf-Idf and LSI \n",
        "  %time articles_tfidf_model = gensim.models.TfidfModel(corpus, id2word=dictionary)\n",
        "  %time articles_lsi_model = gensim.models.LsiModel(articles_tfidf_model[corpus], id2word=dictionary, num_topics=300)\n",
        "  \n",
        "  # %time gensim.corpora.MmCorpus.serialize('articles_tfidf_model_mm', articles_tfidf_model[corpus])\n",
        "  # %time gensim.corpora.MmCorpus.serialize('articles_lsi_model_mm',articles_lsi_model[articles_tfidf_model[corpus]])\n",
        "  # articles_tfidf_corpus = gensim.corpora.MmCorpus('articles_tfidf_model_mm')\n",
        "  # articles_lsi_corpus = gensim.corpora.MmCorpus('articles_lsi_model_mm')\n",
        "\n",
        "  return dictionary, articles_tfidf_model, articles_lsi_model\n",
        "\n",
        "def getModels(articles):\n",
        "  dict = buildDictionary(articles)\n",
        "  corpus = feature_extraction(articles, dict)\n",
        "  return buildModels(dict, corpus)\n"
      ],
      "execution_count": 12,
      "outputs": []
    },
    {
      "cell_type": "code",
      "metadata": {
        "id": "HVFzKETCLUY5"
      },
      "source": [
        ""
      ],
      "execution_count": null,
      "outputs": []
    },
    {
      "cell_type": "code",
      "metadata": {
        "id": "O9EW3Na8LUee"
      },
      "source": [
        ""
      ],
      "execution_count": null,
      "outputs": []
    },
    {
      "cell_type": "code",
      "metadata": {
        "id": "7cAteK3CLUgl",
        "colab": {
          "base_uri": "https://localhost:8080/",
          "height": 221
        },
        "outputId": "67677d53-142b-4fd6-8919-39d62c692f7c"
      },
      "source": [
        "test = readArticle('Colab Notebooks/results/test1_sm_21.2388_sec_results.csv')\n",
        "test.head()"
      ],
      "execution_count": 17,
      "outputs": [
        {
          "output_type": "stream",
          "text": [
            "Mounted at /content/drive\n"
          ],
          "name": "stdout"
        },
        {
          "output_type": "execute_result",
          "data": {
            "text/html": [
              "<div>\n",
              "<style scoped>\n",
              "    .dataframe tbody tr th:only-of-type {\n",
              "        vertical-align: middle;\n",
              "    }\n",
              "\n",
              "    .dataframe tbody tr th {\n",
              "        vertical-align: top;\n",
              "    }\n",
              "\n",
              "    .dataframe thead th {\n",
              "        text-align: right;\n",
              "    }\n",
              "</style>\n",
              "<table border=\"1\" class=\"dataframe\">\n",
              "  <thead>\n",
              "    <tr style=\"text-align: right;\">\n",
              "      <th></th>\n",
              "      <th>Unnamed: 0</th>\n",
              "      <th>content_tokenized</th>\n",
              "    </tr>\n",
              "  </thead>\n",
              "  <tbody>\n",
              "    <tr>\n",
              "      <th>0</th>\n",
              "      <td>0</td>\n",
              "      <td>['washington', 'congressional', 'republicans',...</td>\n",
              "    </tr>\n",
              "    <tr>\n",
              "      <th>1</th>\n",
              "      <td>1</td>\n",
              "      <td>['bullet', 'shell', 'count', 'blood', 'dry', '...</td>\n",
              "    </tr>\n",
              "    <tr>\n",
              "      <th>2</th>\n",
              "      <td>2</td>\n",
              "      <td>['walt', 'disney', 'bambi', 'open', 'critic', ...</td>\n",
              "    </tr>\n",
              "    <tr>\n",
              "      <th>3</th>\n",
              "      <td>3</td>\n",
              "      <td>['death', 'great', 'equalizer', 'isn', 'necess...</td>\n",
              "    </tr>\n",
              "    <tr>\n",
              "      <th>4</th>\n",
              "      <td>4</td>\n",
              "      <td>['seoul', 'south', 'korea', 'north', 'korea', ...</td>\n",
              "    </tr>\n",
              "  </tbody>\n",
              "</table>\n",
              "</div>"
            ],
            "text/plain": [
              "   Unnamed: 0                                  content_tokenized\n",
              "0           0  ['washington', 'congressional', 'republicans',...\n",
              "1           1  ['bullet', 'shell', 'count', 'blood', 'dry', '...\n",
              "2           2  ['walt', 'disney', 'bambi', 'open', 'critic', ...\n",
              "3           3  ['death', 'great', 'equalizer', 'isn', 'necess...\n",
              "4           4  ['seoul', 'south', 'korea', 'north', 'korea', ..."
            ]
          },
          "metadata": {
            "tags": []
          },
          "execution_count": 17
        }
      ]
    },
    {
      "cell_type": "code",
      "metadata": {
        "id": "NzMcZrP2-Skv"
      },
      "source": [
        "# movie_plot = [d.split(\"\\'\") for d in movie_plot]\n",
        "print(movie_plot[0])"
      ],
      "execution_count": null,
      "outputs": []
    },
    {
      "cell_type": "code",
      "metadata": {
        "id": "zcjJyqjqAjOy"
      },
      "source": [
        "# re.split('; |, |\\*|\\n[]',a)\n",
        "def correct(articles): \n",
        "\n",
        "    # for i, s in enumerate(articles):\n",
        "        # articles[i] = re.split(\"\\'\\]\\[\", s)\n",
        "        # articles[i] = [''.join(c for c in word if c.isalpha()) for word in s.split()]\n",
        "\n",
        "    # articles = [d.split(\"\\' []\") for d in articles]\n",
        "    # articles = [re.split(\" \\'\\]\\[\", d) for d in articles]\n",
        "    articles = [[''.join(c for c in word if c.isalpha()) for word in d.split()] for d in articles]\n",
        "\n",
        "    return articles"
      ],
      "execution_count": 63,
      "outputs": []
    },
    {
      "cell_type": "code",
      "metadata": {
        "colab": {
          "base_uri": "https://localhost:8080/"
        },
        "id": "MYCHe-o0_3So",
        "outputId": "74989eb4-edc6-4641-b9cb-f86cf2adea46"
      },
      "source": [
        "import string\n",
        "import re\n",
        "\n",
        "test = readArticle('Colab Notebooks/results/1_sm_5632.8115_sec_1h33min45s_results_articles1.csv')\n",
        "movie_plot = test['content_tokenized']\n",
        "print(correct(movie_plot[0]))\n",
        "# print(buildDictionary(movie_plot))"
      ],
      "execution_count": 64,
      "outputs": [
        {
          "output_type": "stream",
          "text": [
            "Mounted at /content/drive\n",
            "[[''], [''], ['w'], ['a'], ['s'], ['h'], ['i'], ['n'], ['g'], ['t'], ['o'], ['n'], [''], [''], [], [''], ['c'], ['o'], ['n'], ['g'], ['r'], ['e'], ['s'], ['s'], ['i'], ['o'], ['n'], ['a'], ['l'], [''], [''], [], [''], ['r'], ['e'], ['p'], ['u'], ['b'], ['l'], ['i'], ['c'], ['a'], ['n'], ['s'], [''], [''], [], [''], ['n'], ['e'], ['w'], [''], [''], [], [''], ['f'], ['e'], ['a'], ['r'], [''], [''], [], [''], ['c'], ['o'], ['m'], ['e'], [''], [''], [], [''], ['h'], ['e'], ['a'], ['l'], ['t'], ['h'], [''], [''], [], [''], ['c'], ['a'], ['r'], ['e'], [''], [''], [], [''], ['l'], ['a'], ['w'], ['s'], ['u'], ['i'], ['t'], [''], [''], [], [''], ['o'], ['b'], ['a'], ['m'], ['a'], [''], [''], [], [''], ['a'], ['d'], ['m'], ['i'], ['n'], ['i'], ['s'], ['t'], ['r'], ['a'], ['t'], ['i'], ['o'], ['n'], [''], [''], [], [''], ['w'], ['i'], ['n'], [''], [''], [], [''], ['i'], ['n'], ['c'], ['o'], ['m'], ['i'], ['n'], ['g'], [''], [''], [], [''], ['t'], ['r'], ['u'], ['m'], ['p'], [''], [''], [], [''], ['a'], ['d'], ['m'], ['i'], ['n'], ['i'], ['s'], ['t'], ['r'], ['a'], ['t'], ['i'], ['o'], ['n'], [''], [''], [], [''], ['c'], ['h'], ['o'], ['o'], ['s'], ['e'], [''], [''], [], [''], ['l'], ['o'], ['n'], ['g'], ['e'], ['r'], [''], [''], [], [''], ['d'], ['e'], ['f'], ['e'], ['n'], ['d'], [''], [''], [], [''], ['e'], ['x'], ['e'], ['c'], ['u'], ['t'], ['i'], ['v'], ['e'], [''], [''], [], [''], ['b'], ['r'], ['a'], ['n'], ['c'], ['h'], [''], [''], [], [''], ['s'], ['u'], ['i'], ['t'], [''], [''], [], [''], ['c'], ['h'], ['a'], ['l'], ['l'], ['e'], ['n'], ['g'], ['e'], [''], [''], [], [''], ['a'], ['d'], ['m'], ['i'], ['n'], ['i'], ['s'], ['t'], ['r'], ['a'], ['t'], ['i'], ['o'], ['n'], [''], [''], [], [''], ['a'], ['u'], ['t'], ['h'], ['o'], ['r'], ['i'], ['t'], ['y'], [''], [''], [], [''], ['s'], ['p'], ['e'], ['n'], ['d'], [''], [''], [], [''], ['b'], ['i'], ['l'], ['l'], ['i'], ['o'], ['n'], [''], [''], [], [''], ['d'], ['o'], ['l'], ['l'], ['a'], ['r'], [''], [''], [], [''], ['h'], ['e'], ['a'], ['l'], ['t'], ['h'], [''], [''], [], [''], ['i'], ['n'], ['s'], ['u'], ['r'], ['a'], ['n'], ['c'], ['e'], [''], [''], [], [''], ['s'], ['u'], ['b'], ['s'], ['i'], ['d'], ['y'], [''], [''], [], [''], ['a'], ['m'], ['e'], ['r'], ['i'], ['c'], ['a'], ['n'], ['s'], [''], [''], [], [''], ['h'], ['a'], ['n'], ['d'], ['i'], ['n'], ['g'], [''], [''], [], [''], ['h'], ['o'], ['u'], ['s'], ['e'], [''], [''], [], [''], ['r'], ['e'], ['p'], ['u'], ['b'], ['l'], ['i'], ['c'], ['a'], ['n'], ['s'], [''], [''], [], [''], ['b'], ['i'], ['g'], [''], [''], [], [''], ['v'], ['i'], ['c'], ['t'], ['o'], ['r'], ['y'], [''], [''], [], [''], ['i'], ['s'], ['s'], ['u'], ['e'], [''], [''], [], [''], ['s'], ['u'], ['d'], ['d'], ['e'], ['n'], [''], [''], [], [''], ['l'], ['o'], ['s'], ['s'], [''], [''], [], [''], ['d'], ['i'], ['s'], ['p'], ['u'], ['t'], ['e'], [''], [''], [], [''], ['s'], ['u'], ['b'], ['s'], ['i'], ['d'], ['y'], [''], [''], [], [''], ['c'], ['o'], ['n'], ['c'], ['e'], ['i'], ['v'], ['a'], ['b'], ['l'], ['y'], [''], [''], [], [''], ['c'], ['a'], ['u'], ['s'], ['e'], [''], [''], [], [''], ['h'], ['e'], ['a'], ['l'], ['t'], ['h'], [''], [''], [], [''], ['c'], ['a'], ['r'], ['e'], [''], [''], [], [''], ['p'], ['r'], ['o'], ['g'], ['r'], ['a'], ['m'], [''], [''], [], [''], ['i'], ['m'], ['p'], ['l'], ['o'], ['d'], ['e'], [''], [''], [], [''], ['l'], ['e'], ['a'], ['v'], ['e'], [''], [''], [], [''], ['m'], ['i'], ['l'], ['l'], ['i'], ['o'], ['n'], [''], [''], [], [''], ['p'], ['e'], ['o'], ['p'], ['l'], ['e'], [''], [''], [], [''], ['a'], ['c'], ['c'], ['e'], ['s'], ['s'], [''], [''], [], [''], ['h'], ['e'], ['a'], ['l'], ['t'], ['h'], [''], [''], [], [''], ['i'], ['n'], ['s'], ['u'], ['r'], ['a'], ['n'], ['c'], ['e'], [''], [''], [], [''], ['r'], ['e'], ['p'], ['u'], ['b'], ['l'], ['i'], ['c'], ['a'], ['n'], ['s'], [''], [''], [], [''], ['p'], ['r'], ['e'], ['p'], ['a'], ['r'], ['e'], [''], [''], [], [''], ['r'], ['e'], ['p'], ['l'], ['a'], ['c'], ['e'], ['m'], ['e'], ['n'], ['t'], [''], [''], [], [''], ['l'], ['e'], ['a'], ['d'], [''], [''], [], [''], ['c'], ['h'], ['a'], ['o'], ['s'], [''], [''], [], [''], ['i'], ['n'], ['s'], ['u'], ['r'], ['a'], ['n'], ['c'], ['e'], [''], [''], [], [''], ['m'], ['a'], ['r'], ['k'], ['e'], ['t'], [''], [''], [], [''], ['s'], ['p'], ['u'], ['r'], [''], [''], [], [''], ['p'], ['o'], ['l'], ['i'], ['t'], ['i'], ['c'], ['a'], ['l'], [''], [''], [], [''], ['b'], ['a'], ['c'], ['k'], ['l'], ['a'], ['s'], ['h'], [''], [''], [], [''], ['r'], ['e'], ['p'], ['u'], ['b'], ['l'], ['i'], ['c'], ['a'], ['n'], ['s'], [''], [''], [], [''], ['g'], ['a'], ['i'], ['n'], [''], [''], [], [''], ['c'], ['o'], ['n'], ['t'], ['r'], ['o'], ['l'], [''], [''], [], [''], ['g'], ['o'], ['v'], ['e'], ['r'], ['n'], ['m'], ['e'], ['n'], ['t'], [''], [''], [], [''], ['s'], ['t'], ['a'], ['v'], ['e'], [''], [''], [], [''], ['o'], ['u'], ['t'], ['c'], ['o'], ['m'], ['e'], [''], [''], [], [''], ['r'], ['e'], ['p'], ['u'], ['b'], ['l'], ['i'], ['c'], ['a'], ['n'], ['s'], [''], [''], [], [''], ['f'], ['i'], ['n'], ['d'], [''], [''], [], [''], ['a'], ['w'], ['k'], ['w'], ['a'], ['r'], ['d'], [''], [''], [], [''], ['p'], ['o'], ['s'], ['i'], ['t'], ['i'], ['o'], ['n'], [''], [''], [], [''], ['a'], ['p'], ['p'], ['r'], ['o'], ['p'], ['r'], ['i'], ['a'], ['t'], ['e'], [''], [''], [], [''], ['h'], ['u'], ['g'], ['e'], [''], [''], [], [''], ['s'], ['u'], ['m'], [''], [''], [], [''], ['t'], ['e'], ['m'], ['p'], ['o'], ['r'], ['a'], ['r'], ['i'], ['l'], ['y'], [''], [''], [], [''], ['p'], ['r'], ['o'], ['p'], [''], [''], [], [''], ['o'], ['b'], ['a'], ['m'], ['a'], [''], [''], [], [''], ['h'], ['e'], ['a'], ['l'], ['t'], ['h'], [''], [''], [], [''], ['c'], ['a'], ['r'], ['e'], [''], [''], [], [''], ['l'], ['a'], ['w'], [''], [''], [], [''], ['a'], ['n'], ['g'], ['e'], ['r'], [''], [''], [], [''], ['c'], ['o'], ['n'], ['s'], ['e'], ['r'], ['v'], ['a'], ['t'], ['i'], ['v'], ['e'], [''], [''], [], [''], ['v'], ['o'], ['t'], ['e'], ['r'], [''], [''], [], [''], ['d'], ['e'], ['m'], ['a'], ['n'], ['d'], [''], [''], [], [''], ['e'], ['n'], ['d'], [''], [''], [], [''], ['l'], ['a'], ['w'], [''], [''], [], [''], ['y'], ['e'], ['a'], ['r'], [''], [''], [], [''], ['t'], ['w'], ['i'], ['s'], ['t'], [''], [''], [], [''], ['d'], ['o'], ['n'], ['a'], ['l'], ['d'], [''], [''], [], [''], ['t'], ['r'], ['u'], ['m'], ['p'], [''], [''], [], [''], ['a'], ['d'], ['m'], ['i'], ['n'], ['i'], ['s'], ['t'], ['r'], ['a'], ['t'], ['i'], ['o'], ['n'], [''], [''], [], [''], ['w'], ['o'], ['r'], ['r'], ['y'], [''], [''], [], [''], ['p'], ['r'], ['e'], ['s'], ['e'], ['r'], ['v'], ['e'], [''], [''], [], [''], ['e'], ['x'], ['e'], ['c'], ['u'], ['t'], ['i'], ['v'], ['e'], [''], [''], [], [''], ['b'], ['r'], ['a'], ['n'], ['c'], ['h'], [''], [''], [], [''], ['p'], ['r'], ['e'], ['r'], ['o'], ['g'], ['a'], ['t'], ['i'], ['v'], ['e'], [''], [''], [], [''], ['c'], ['h'], ['o'], ['o'], ['s'], ['e'], [''], [''], [], [''], ['f'], ['i'], ['g'], ['h'], ['t'], [''], [''], [], [''], ['r'], ['e'], ['p'], ['u'], ['b'], ['l'], ['i'], ['c'], ['a'], ['n'], [''], [''], [], [''], ['a'], ['l'], ['l'], ['y'], [''], [''], [], [''], ['h'], ['o'], ['u'], ['s'], ['e'], [''], [''], [], [''], ['c'], ['e'], ['n'], ['t'], ['r'], ['a'], ['l'], [''], [''], [], [''], ['q'], ['u'], ['e'], ['s'], ['t'], ['i'], ['o'], ['n'], [''], [''], [], [''], ['d'], ['i'], ['s'], ['p'], ['u'], ['t'], ['e'], [''], [''], [], [''], ['e'], ['a'], ['g'], ['e'], ['r'], [''], [''], [], [''], ['a'], ['v'], ['o'], ['i'], ['d'], [''], [''], [], [''], ['u'], ['g'], ['l'], ['y'], [''], [''], [], [''], ['p'], ['o'], ['l'], ['i'], ['t'], ['i'], ['c'], ['a'], ['l'], [''], [''], [], [''], ['p'], ['i'], ['l'], ['e'], ['u'], ['p'], [''], [''], [], [''], ['r'], ['e'], ['p'], ['u'], ['b'], ['l'], ['i'], ['c'], ['a'], ['n'], ['s'], [''], [''], [], [''], ['c'], ['a'], ['p'], ['i'], ['t'], ['o'], ['l'], [''], [''], [], [''], ['h'], ['i'], ['l'], ['l'], [''], [''], [], [''], ['t'], ['r'], ['u'], ['m'], ['p'], [''], [''], [], [''], ['t'], ['r'], ['a'], ['n'], ['s'], ['i'], ['t'], ['i'], ['o'], ['n'], [''], [''], [], [''], ['t'], ['e'], ['a'], ['m'], [''], [''], [], [''], ['g'], ['a'], ['m'], ['e'], [''], [''], [], [''], ['h'], ['a'], ['n'], ['d'], ['l'], ['e'], [''], [''], [], [''], ['l'], ['a'], ['w'], ['s'], ['u'], ['i'], ['t'], [''], [''], [], [''], ['e'], ['l'], ['e'], ['c'], ['t'], ['i'], ['o'], ['n'], [''], [''], [], [''], ['l'], ['i'], ['m'], ['b'], ['o'], [''], [''], [], [''], ['l'], ['a'], ['t'], ['e'], [''], [''], [], [''], ['f'], ['e'], ['b'], ['r'], ['u'], ['a'], ['r'], ['y'], [''], [''], [], [''], ['u'], ['n'], ['i'], ['t'], ['e'], ['d'], [''], [''], [], [''], ['s'], ['t'], ['a'], ['t'], ['e'], ['s'], [''], [''], [], [''], ['c'], ['o'], ['u'], ['r'], ['t'], [''], [''], [], [''], ['a'], ['p'], ['p'], ['e'], ['a'], ['l'], ['s'], [''], [''], [], [''], ['d'], ['i'], ['s'], ['t'], ['r'], ['i'], ['c'], ['t'], [''], [''], [], [''], ['c'], ['o'], ['l'], ['u'], ['m'], ['b'], ['i'], ['a'], [''], [''], [], [''], ['c'], ['i'], ['r'], ['c'], ['u'], ['i'], ['t'], [''], [''], [], [''], ['r'], ['e'], ['a'], ['d'], ['y'], [''], [''], [], [''], ['d'], ['i'], ['v'], ['u'], ['l'], ['g'], ['e'], [''], [''], [], [''], ['s'], ['t'], ['r'], ['a'], ['t'], ['e'], ['g'], ['y'], [''], [''], [], [''], ['p'], ['e'], ['n'], ['d'], ['e'], [''], [''], [], [''], ['l'], ['i'], ['t'], ['i'], ['g'], ['a'], ['t'], ['i'], ['o'], ['n'], [''], [''], [], [''], ['i'], ['n'], ['v'], ['o'], ['l'], ['v'], ['e'], [''], [''], [], [''], ['o'], ['b'], ['a'], ['m'], ['a'], [''], [''], [], [''], ['a'], ['d'], ['m'], ['i'], ['n'], ['i'], ['s'], ['t'], ['r'], ['a'], ['t'], ['i'], ['o'], ['n'], [''], [''], [], [''], ['c'], ['o'], ['n'], ['g'], ['r'], ['e'], ['s'], ['s'], [''], [''], [], [''], ['i'], ['n'], ['a'], ['p'], ['p'], ['r'], ['o'], ['p'], ['r'], ['i'], ['a'], ['t'], ['e'], [''], [''], [], [''], ['c'], ['o'], ['m'], ['m'], ['e'], ['n'], ['t'], [''], [''], [], [''], ['p'], ['h'], ['i'], ['l'], ['l'], ['i'], ['p'], [''], [''], [], [''], ['b'], ['l'], ['a'], ['n'], ['d'], ['o'], [''], [''], [], [''], ['s'], ['p'], ['o'], ['k'], ['e'], ['s'], ['m'], ['a'], ['n'], [''], [''], [], [''], ['t'], ['r'], ['u'], ['m'], ['p'], [''], [''], [], [''], ['t'], ['r'], ['a'], ['n'], ['s'], ['i'], ['t'], ['i'], ['o'], ['n'], [''], [''], [], [''], ['e'], ['f'], ['f'], ['o'], ['r'], ['t'], [''], [''], [], [''], ['o'], ['f'], ['f'], ['i'], ['c'], ['e'], [''], [''], [], [''], ['t'], ['r'], ['u'], ['m'], ['p'], [''], [''], [], [''], ['a'], ['d'], ['m'], ['i'], ['n'], ['i'], ['s'], ['t'], ['r'], ['a'], ['t'], ['i'], ['o'], ['n'], [''], [''], [], [''], ['e'], ['v'], ['a'], ['l'], ['u'], ['a'], ['t'], ['e'], [''], [''], [], [''], ['c'], ['a'], ['s'], ['e'], [''], [''], [], [''], ['r'], ['e'], ['l'], ['a'], ['t'], ['e'], [''], [''], [], [''], ['a'], ['s'], ['p'], ['e'], ['c'], ['t'], [''], [''], [], [''], ['a'], ['f'], ['f'], ['o'], ['r'], ['d'], ['a'], ['b'], ['l'], ['e'], [''], [''], [], [''], ['c'], ['a'], ['r'], ['e'], [''], [''], [], [''], ['a'], ['c'], ['t'], [''], [''], [], [''], ['p'], ['o'], ['t'], ['e'], ['n'], ['t'], ['i'], ['a'], ['l'], ['l'], ['y'], [''], [''], [], [''], ['d'], ['e'], ['c'], ['i'], ['s'], ['i'], ['o'], ['n'], [''], [''], [], [''], ['j'], ['u'], ['d'], ['g'], ['e'], [''], [''], [], [''], ['r'], ['o'], ['s'], ['e'], ['m'], ['a'], ['r'], ['y'], [''], [''], [], [''], ['c'], ['o'], ['l'], ['l'], ['y'], ['e'], ['r'], [''], [''], [], [''], ['r'], ['u'], ['l'], ['e'], [''], [''], [], [''], ['h'], ['o'], ['u'], ['s'], ['e'], [''], [''], [], [''], ['r'], ['e'], ['p'], ['u'], ['b'], ['l'], ['i'], ['c'], ['a'], ['n'], ['s'], [''], [''], [], [''], ['s'], ['t'], ['a'], ['n'], ['d'], ['i'], ['n'], ['g'], [''], [''], [], [''], ['s'], ['u'], ['e'], [''], [''], [], [''], ['e'], ['x'], ['e'], ['c'], ['u'], ['t'], ['i'], ['v'], ['e'], [''], [''], [], [''], ['b'], ['r'], ['a'], ['n'], ['c'], ['h'], [''], [''], [], [''], ['s'], ['p'], ['e'], ['n'], ['d'], ['i'], ['n'], ['g'], [''], [''], [], [''], ['d'], ['i'], ['s'], ['p'], ['u'], ['t'], ['e'], [''], [''], [], [''], ['o'], ['b'], ['a'], ['m'], ['a'], [''], [''], [], [''], ['a'], ['d'], ['m'], ['i'], ['n'], ['i'], ['s'], ['t'], ['r'], ['a'], ['t'], ['i'], ['o'], ['n'], [''], [''], [], [''], ['d'], ['i'], ['s'], ['t'], ['r'], ['i'], ['b'], ['u'], ['t'], ['e'], [''], [''], [], [''], ['h'], ['e'], ['a'], ['l'], ['t'], ['h'], [''], [''], [], [''], ['i'], ['n'], ['s'], ['u'], ['r'], ['a'], ['n'], ['c'], ['e'], [''], [''], [], [''], ['s'], ['u'], ['b'], ['s'], ['i'], ['d'], ['y'], [''], [''], [], [''], ['v'], ['i'], ['o'], ['l'], ['a'], ['t'], ['i'], ['o'], ['n'], [''], [''], [], [''], ['c'], ['o'], ['n'], ['s'], ['t'], ['i'], ['t'], ['u'], ['t'], ['i'], ['o'], ['n'], [''], [''], [], [''], ['a'], ['p'], ['p'], ['r'], ['o'], ['v'], ['a'], ['l'], [''], [''], [], [''], ['c'], ['o'], ['n'], ['g'], ['r'], ['e'], ['s'], ['s'], [''], [''], [], [''], ['j'], ['u'], ['s'], ['t'], ['i'], ['c'], ['e'], [''], [''], [], [''], ['d'], ['e'], ['p'], ['a'], ['r'], ['t'], ['m'], ['e'], ['n'], ['t'], [''], [''], [], [''], ['c'], ['o'], ['n'], ['f'], ['i'], ['d'], ['e'], ['n'], ['t'], [''], [''], [], [''], ['j'], ['u'], ['d'], ['g'], ['e'], [''], [''], [], [''], ['c'], ['o'], ['l'], ['l'], ['y'], ['e'], ['r'], [''], [''], [], [''], ['d'], ['e'], ['c'], ['i'], ['s'], ['i'], ['o'], ['n'], [''], [''], [], [''], ['r'], ['e'], ['v'], ['e'], ['r'], ['s'], ['e'], [''], [''], [], [''], ['q'], ['u'], ['i'], ['c'], ['k'], ['l'], ['y'], [''], [''], [], [''], ['a'], ['p'], ['p'], ['e'], ['a'], ['l'], [''], [''], [], [''], ['s'], ['u'], ['b'], ['s'], ['i'], ['d'], ['y'], [''], [''], [], [''], ['r'], ['e'], ['m'], ['a'], ['i'], ['n'], [''], [''], [], [''], ['p'], ['l'], ['a'], ['c'], ['e'], [''], [''], [], [''], ['a'], ['p'], ['p'], ['e'], ['a'], ['l'], [''], [''], [], [''], ['s'], ['u'], ['c'], ['c'], ['e'], ['s'], ['s'], ['f'], ['u'], ['l'], ['l'], ['y'], [''], [''], [], [''], ['s'], ['e'], ['e'], ['k'], [''], [''], [], [''], ['t'], ['e'], ['m'], ['p'], ['o'], ['r'], ['a'], ['r'], ['y'], [''], [''], [], [''], ['h'], ['a'], ['l'], ['t'], [''], [''], [], [''], ['p'], ['r'], ['o'], ['c'], ['e'], ['e'], ['d'], ['i'], ['n'], ['g'], [''], [''], [], [''], ['t'], ['r'], ['u'], ['m'], ['p'], [''], [''], [], [''], ['w'], ['i'], ['n'], [''], [''], [], [''], ['h'], ['o'], ['u'], ['s'], ['e'], [''], [''], [], [''], ['r'], ['e'], ['p'], ['u'], ['b'], ['l'], ['i'], ['c'], ['a'], ['n'], ['s'], [''], [''], [], [''], ['m'], ['o'], ['n'], ['t'], ['h'], [''], [''], [], [''], ['t'], ['e'], ['l'], ['l'], [''], [''], [], [''], ['c'], ['o'], ['u'], ['r'], ['t'], [''], [''], [], [''], ['t'], ['r'], ['a'], ['n'], ['s'], ['i'], ['t'], ['i'], ['o'], ['n'], [''], [''], [], [''], ['t'], ['e'], ['a'], ['m'], [''], [''], [], [''], ['c'], ['u'], ['r'], ['r'], ['e'], ['n'], ['t'], ['l'], ['y'], [''], [''], [], [''], ['d'], ['i'], ['s'], ['c'], ['u'], ['s'], ['s'], [''], [''], [], [''], ['p'], ['o'], ['t'], ['e'], ['n'], ['t'], ['i'], ['a'], ['l'], [''], [''], [], [''], ['o'], ['p'], ['t'], ['i'], ['o'], ['n'], [''], [''], [], [''], ['r'], ['e'], ['s'], ['o'], ['l'], ['u'], ['t'], ['i'], ['o'], ['n'], [''], [''], [], [''], ['m'], ['a'], ['t'], ['t'], ['e'], ['r'], [''], [''], [], [''], ['e'], ['f'], ['f'], ['e'], ['c'], ['t'], [''], [''], [], [''], ['i'], ['n'], ['a'], ['u'], ['g'], ['u'], ['r'], ['a'], ['t'], ['i'], ['o'], ['n'], [''], [''], [], [''], ['j'], ['a'], ['n'], [''], [''], [], [''], ['s'], ['u'], ['s'], ['p'], ['e'], ['n'], ['s'], ['i'], ['o'], ['n'], [''], [''], [], [''], ['c'], ['a'], ['s'], ['e'], [''], [''], [], [''], ['h'], ['o'], ['u'], ['s'], ['e'], [''], [''], [], [''], ['l'], ['a'], ['w'], ['y'], ['e'], ['r'], [''], [''], [], [''], ['p'], ['r'], ['o'], ['v'], ['i'], ['d'], ['e'], [''], [''], [], [''], ['f'], ['u'], ['t'], ['u'], ['r'], ['e'], [''], [''], [], [''], ['a'], ['d'], ['m'], ['i'], ['n'], ['i'], ['s'], ['t'], ['r'], ['a'], ['t'], ['i'], ['o'], ['n'], [''], [''], [], [''], ['t'], ['i'], ['m'], ['e'], [''], [''], [], [''], ['c'], ['o'], ['n'], ['s'], ['i'], ['d'], ['e'], ['r'], [''], [''], [], [''], ['c'], ['o'], ['n'], ['t'], ['i'], ['n'], ['u'], ['e'], [''], [''], [], [''], ['p'], ['r'], ['o'], ['s'], ['e'], ['c'], ['u'], ['t'], ['e'], [''], [''], [], [''], ['r'], ['e'], ['s'], ['o'], ['l'], ['v'], ['e'], [''], [''], [], [''], ['a'], ['p'], ['p'], ['e'], ['a'], ['l'], [''], [''], [], [''], ['r'], ['e'], ['p'], ['u'], ['b'], ['l'], ['i'], ['c'], ['a'], ['n'], [''], [''], [], [''], ['l'], ['e'], ['a'], ['d'], ['e'], ['r'], ['s'], ['h'], ['i'], ['p'], [''], [''], [], [''], ['o'], ['f'], ['f'], ['i'], ['c'], ['i'], ['a'], ['l'], [''], [''], [], [''], ['h'], ['o'], ['u'], ['s'], ['e'], [''], [''], [], [''], ['a'], ['c'], ['k'], ['n'], ['o'], ['w'], ['l'], ['e'], ['d'], ['g'], ['e'], [''], [''], [], [''], ['p'], ['o'], ['s'], ['s'], ['i'], ['b'], ['i'], ['l'], ['i'], ['t'], ['y'], [''], [''], [], [''], ['c'], ['a'], ['s'], ['c'], ['a'], ['d'], ['i'], ['n'], ['g'], [''], [''], [], [''], ['e'], ['f'], ['f'], ['e'], ['c'], ['t'], [''], [''], [], [''], ['p'], ['a'], ['y'], ['m'], ['e'], ['n'], ['t'], [''], [''], [], [''], ['t'], ['o'], ['t'], ['a'], ['l'], [''], [''], [], [''], ['e'], ['s'], ['t'], ['i'], ['m'], ['a'], ['t'], ['e'], [''], [''], [], [''], ['b'], ['i'], ['l'], ['l'], ['i'], ['o'], ['n'], [''], [''], [], [''], ['s'], ['u'], ['d'], ['d'], ['e'], ['n'], ['l'], ['y'], [''], [''], [], [''], ['s'], ['t'], ['o'], ['p'], [''], [''], [], [''], ['i'], ['n'], ['s'], ['u'], ['r'], ['e'], ['r'], [''], [''], [], [''], ['r'], ['e'], ['c'], ['e'], ['i'], ['v'], ['e'], [''], [''], [], [''], ['s'], ['u'], ['b'], ['s'], ['i'], ['d'], ['y'], [''], [''], [], [''], ['e'], ['x'], ['c'], ['h'], ['a'], ['n'], ['g'], ['e'], [''], [''], [], [''], ['p'], ['a'], ['y'], [''], [''], [], [''], ['c'], ['o'], ['s'], ['t'], [''], [''], [], [''], ['d'], ['e'], ['d'], ['u'], ['c'], ['t'], ['i'], ['b'], ['l'], ['e'], [''], [''], [], [''], ['e'], ['l'], ['i'], ['g'], ['i'], ['b'], ['l'], ['e'], [''], [''], [], [''], ['c'], ['o'], ['n'], ['s'], ['u'], ['m'], ['e'], ['r'], [''], [''], [], [''], ['r'], ['a'], ['c'], ['e'], [''], [''], [], [''], ['d'], ['r'], ['o'], ['p'], [''], [''], [], [''], ['c'], ['o'], ['v'], ['e'], ['r'], ['a'], ['g'], ['e'], [''], [''], [], [''], ['l'], ['o'], ['s'], ['e'], [''], [''], [], [''], ['m'], ['o'], ['n'], ['e'], ['y'], [''], [''], [], [''], ['l'], ['o'], ['s'], ['s'], [''], [''], [], [''], ['s'], ['u'], ['b'], ['s'], ['i'], ['d'], ['y'], [''], [''], [], [''], ['d'], ['e'], ['s'], ['t'], ['a'], ['b'], ['i'], ['l'], ['i'], ['z'], ['e'], [''], [''], [], [''], ['e'], ['n'], ['t'], ['i'], ['r'], ['e'], [''], [''], [], [''], ['p'], ['r'], ['o'], ['g'], ['r'], ['a'], ['m'], [''], [''], [], [''], ['c'], ['a'], ['u'], ['s'], ['e'], [''], [''], [], [''], ['l'], ['a'], ['c'], ['k'], [''], [''], [], [''], ['c'], ['o'], ['n'], ['f'], ['i'], ['d'], ['e'], ['n'], ['c'], ['e'], [''], [''], [], [''], ['l'], ['e'], ['a'], ['d'], [''], [''], [], [''], ['i'], ['n'], ['s'], ['u'], ['r'], ['e'], ['r'], [''], [''], [], [''], ['s'], ['e'], ['e'], ['k'], [''], [''], [], [''], ['q'], ['u'], ['i'], ['c'], ['k'], [''], [''], [], [''], ['e'], ['x'], ['i'], ['t'], [''], [''], [], [''], ['a'], ['n'], ['t'], ['i'], ['c'], ['i'], ['p'], ['a'], ['t'], ['e'], [''], [''], [], [''], ['t'], ['r'], ['u'], ['m'], ['p'], [''], [''], [], [''], ['a'], ['d'], ['m'], ['i'], ['n'], ['i'], ['s'], ['t'], ['r'], ['a'], ['t'], ['i'], ['o'], ['n'], [''], [''], [], [''], ['i'], ['n'], ['c'], ['l'], ['i'], ['n'], ['e'], [''], [''], [], [''], ['m'], ['o'], ['u'], ['n'], ['t'], [''], [''], [], [''], ['v'], ['i'], ['g'], ['o'], ['r'], ['o'], ['u'], ['s'], [''], [''], [], [''], ['f'], ['i'], ['g'], ['h'], ['t'], [''], [''], [], [''], ['h'], ['o'], ['u'], ['s'], ['e'], [''], [''], [], [''], ['r'], ['e'], ['p'], ['u'], ['b'], ['l'], ['i'], ['c'], ['a'], ['n'], ['s'], [''], [''], [], [''], ['d'], ['i'], ['m'], [''], [''], [], [''], ['v'], ['i'], ['e'], ['w'], [''], [''], [], [''], ['h'], ['e'], ['a'], ['l'], ['t'], ['h'], [''], [''], [], [''], ['c'], ['a'], ['r'], ['e'], [''], [''], [], [''], ['l'], ['a'], ['w'], [''], [''], [], [''], ['t'], ['e'], ['a'], ['m'], [''], [''], [], [''], ['l'], ['a'], ['w'], ['y'], ['e'], ['r'], [''], [''], [], [''], ['m'], ['o'], ['n'], ['t'], ['h'], [''], [''], [], [''], ['s'], ['e'], ['e'], ['k'], [''], [''], [], [''], ['i'], ['n'], ['t'], ['e'], ['r'], ['v'], ['e'], ['n'], ['e'], [''], [''], [], [''], ['c'], ['a'], ['s'], ['e'], [''], [''], [], [''], ['b'], ['e'], ['h'], ['a'], ['l'], ['f'], [''], [''], [], [''], ['p'], ['a'], ['r'], ['t'], ['i'], ['c'], ['i'], ['p'], ['a'], ['n'], ['t'], [''], [''], [], [''], ['h'], ['e'], ['a'], ['l'], ['t'], ['h'], [''], [''], [], [''], ['c'], ['a'], ['r'], ['e'], [''], [''], [], [''], ['p'], ['r'], ['o'], ['g'], ['r'], ['a'], ['m'], [''], [''], [], [''], ['r'], ['e'], ['q'], ['u'], ['e'], ['s'], ['t'], [''], [''], [], [''], ['l'], ['a'], ['w'], ['y'], ['e'], ['r'], [''], [''], [], [''], ['p'], ['r'], ['e'], ['d'], ['i'], ['c'], ['t'], [''], [''], [], [''], ['d'], ['e'], ['a'], ['l'], [''], [''], [], [''], ['h'], ['o'], ['u'], ['s'], ['e'], [''], [''], [], [''], ['r'], ['e'], ['p'], ['u'], ['b'], ['l'], ['i'], ['c'], ['a'], ['n'], ['s'], [''], [''], [], [''], ['n'], ['e'], ['w'], [''], [''], [], [''], ['a'], ['d'], ['m'], ['i'], ['n'], ['i'], ['s'], ['t'], ['r'], ['a'], ['t'], ['i'], ['o'], ['n'], [''], [''], [], [''], ['d'], ['i'], ['s'], ['m'], ['i'], ['s'], ['s'], [''], [''], [], [''], ['s'], ['e'], ['t'], ['t'], ['l'], ['e'], [''], [''], [], [''], ['c'], ['a'], ['s'], ['e'], [''], [''], [], [''], ['p'], ['r'], ['o'], ['d'], ['u'], ['c'], ['e'], [''], [''], [], [''], ['d'], ['e'], ['v'], ['a'], ['s'], ['t'], ['a'], ['t'], ['i'], ['n'], ['g'], [''], [''], [], [''], ['c'], ['o'], ['n'], ['s'], ['e'], ['q'], ['u'], ['e'], ['n'], ['c'], ['e'], [''], [''], [], [''], ['i'], ['n'], ['d'], ['i'], ['v'], ['i'], ['d'], ['u'], ['a'], ['l'], [''], [''], [], [''], ['r'], ['e'], ['c'], ['e'], ['i'], ['v'], ['e'], [''], [''], [], [''], ['r'], ['e'], ['d'], ['u'], ['c'], ['t'], ['i'], ['o'], ['n'], [''], [''], [], [''], ['n'], ['a'], ['t'], ['i'], ['o'], ['n'], [''], [''], [], [''], ['h'], ['e'], ['a'], ['l'], ['t'], ['h'], [''], [''], [], [''], ['i'], ['n'], ['s'], ['u'], ['r'], ['a'], ['n'], ['c'], ['e'], [''], [''], [], [''], ['h'], ['e'], ['a'], ['l'], ['t'], ['h'], [''], [''], [], [''], ['c'], ['a'], ['r'], ['e'], [''], [''], [], [''], ['s'], ['y'], ['s'], ['t'], ['e'], ['m'], [''], [''], [], [''], ['g'], ['e'], ['n'], ['e'], ['r'], ['a'], ['l'], ['l'], ['y'], [''], [''], [], [''], ['m'], ['a'], ['t'], ['t'], ['e'], ['r'], [''], [''], [], [''], ['h'], ['a'], ['p'], ['p'], ['e'], ['n'], [''], [''], [], [''], ['h'], ['o'], ['u'], ['s'], ['e'], [''], [''], [], [''], ['r'], ['e'], ['p'], ['u'], ['b'], ['l'], ['i'], ['c'], ['a'], ['n'], ['s'], [''], [''], [], [''], ['w'], ['a'], ['n'], ['t'], [''], [''], [], [''], ['p'], ['r'], ['e'], ['v'], ['a'], ['i'], ['l'], [''], [''], [], [''], ['o'], ['v'], ['e'], ['r'], ['a'], ['r'], ['c'], ['h'], [''], [''], [], [''], ['c'], ['o'], ['n'], ['c'], ['e'], ['p'], ['t'], [''], [''], [], [''], ['c'], ['o'], ['n'], ['g'], ['r'], ['e'], ['s'], ['s'], ['i'], ['o'], ['n'], ['a'], ['l'], [''], [''], [], [''], ['p'], ['o'], ['w'], ['e'], ['r'], [''], [''], [], [''], ['p'], ['u'], ['r'], ['s'], ['e'], [''], [''], [], [''], ['r'], ['i'], ['g'], ['h'], ['t'], [''], [''], [], [''], ['c'], ['o'], ['n'], ['g'], ['r'], ['e'], ['s'], ['s'], [''], [''], [], [''], ['s'], ['u'], ['e'], [''], [''], [], [''], ['e'], ['x'], ['e'], ['c'], ['u'], ['t'], ['i'], ['v'], ['e'], [''], [''], [], [''], ['b'], ['r'], ['a'], ['n'], ['c'], ['h'], [''], [''], [], [''], ['v'], ['i'], ['o'], ['l'], ['a'], ['t'], ['e'], [''], [''], [], [''], ['c'], ['o'], ['n'], ['s'], ['t'], ['i'], ['t'], ['u'], ['t'], ['i'], ['o'], ['n'], [''], [''], [], [''], ['r'], ['e'], ['g'], ['a'], ['r'], ['d'], [''], [''], [], [''], ['s'], ['p'], ['e'], ['n'], ['d'], [''], [''], [], [''], ['p'], ['o'], ['w'], ['e'], ['r'], [''], [''], [], [''], ['h'], ['o'], ['u'], ['s'], ['e'], [''], [''], [], [''], ['r'], ['e'], ['p'], ['u'], ['b'], ['l'], ['i'], ['c'], ['a'], ['n'], ['s'], [''], [''], [], [''], ['c'], ['o'], ['n'], ['t'], ['e'], ['n'], ['d'], [''], [''], [], [''], ['c'], ['o'], ['n'], ['g'], ['r'], ['e'], ['s'], ['s'], [''], [''], [], [''], ['a'], ['p'], ['p'], ['r'], ['o'], ['p'], ['r'], ['i'], ['a'], ['t'], ['e'], [''], [''], [], [''], ['m'], ['o'], ['n'], ['e'], ['y'], [''], [''], [], [''], ['s'], ['u'], ['b'], ['s'], ['i'], ['d'], ['y'], [''], [''], [], [''], ['r'], ['e'], ['q'], ['u'], ['i'], ['r'], ['e'], [''], [''], [], [''], ['c'], ['o'], ['n'], ['s'], ['t'], ['i'], ['t'], ['u'], ['t'], ['i'], ['o'], ['n'], [''], [''], [], [''], ['s'], ['u'], ['i'], ['t'], [''], [''], [], [''], ['i'], ['n'], ['i'], ['t'], ['i'], ['a'], ['l'], ['l'], ['y'], [''], [''], [], [''], ['c'], ['h'], ['a'], ['m'], ['p'], ['i'], ['o'], ['n'], [''], [''], [], [''], ['j'], ['o'], ['h'], ['n'], [''], [''], [], [''], ['b'], ['o'], ['e'], ['h'], ['n'], ['e'], ['r'], [''], [''], [], [''], ['h'], ['o'], ['u'], ['s'], ['e'], [''], [''], [], [''], ['s'], ['p'], ['e'], ['a'], ['k'], ['e'], ['r'], [''], [''], [], [''], ['t'], ['i'], ['m'], ['e'], [''], [''], [], [''], ['l'], ['a'], ['t'], ['e'], ['r'], [''], [''], [], [''], ['h'], ['o'], ['u'], ['s'], ['e'], [''], [''], [], [''], ['c'], ['o'], ['m'], ['m'], ['i'], ['t'], ['t'], ['e'], ['e'], [''], [''], [], [''], ['r'], ['e'], ['p'], ['o'], ['r'], ['t'], [''], [''], [], [''], ['r'], ['e'], ['p'], ['u'], ['b'], ['l'], ['i'], ['c'], ['a'], ['n'], ['s'], [''], [''], [], [''], ['a'], ['s'], ['s'], ['e'], ['r'], ['t'], [''], [''], [], [''], ['a'], ['d'], ['m'], ['i'], ['n'], ['i'], ['s'], ['t'], ['r'], ['a'], ['t'], ['i'], ['o'], ['n'], [''], [''], [], [''], ['d'], ['e'], ['s'], ['p'], ['e'], ['r'], ['a'], ['t'], ['e'], [''], [''], [], [''], ['f'], ['u'], ['n'], ['d'], ['i'], ['n'], ['g'], [''], [''], [], [''], ['r'], ['e'], ['q'], ['u'], ['i'], ['r'], ['e'], [''], [''], [], [''], ['t'], ['r'], ['e'], ['a'], ['s'], ['u'], ['r'], ['y'], [''], [''], [], [''], ['d'], ['e'], ['p'], ['a'], ['r'], ['t'], ['m'], ['e'], ['n'], ['t'], [''], [''], [], [''], ['p'], ['r'], ['o'], ['v'], ['i'], ['d'], ['e'], [''], [''], [], [''], ['d'], ['e'], ['s'], ['p'], ['i'], ['t'], ['e'], [''], [''], [], [''], ['w'], ['i'], ['d'], ['e'], ['s'], ['p'], ['r'], ['e'], ['a'], ['d'], [''], [''], [], [''], ['i'], ['n'], ['t'], ['e'], ['r'], ['n'], ['a'], ['l'], [''], [''], [], [''], ['s'], ['k'], ['e'], ['p'], ['t'], ['i'], ['c'], ['i'], ['s'], ['m'], [''], [''], [], [''], ['s'], ['p'], ['e'], ['n'], ['d'], ['i'], ['n'], ['g'], [''], [''], [], [''], ['p'], ['r'], ['o'], ['p'], ['e'], ['r'], [''], [''], [], [''], ['w'], ['h'], ['i'], ['t'], ['e'], [''], [''], [], [''], ['h'], ['o'], ['u'], ['s'], ['e'], [''], [''], [], [''], ['s'], ['p'], ['e'], ['n'], ['d'], ['i'], ['n'], ['g'], [''], [''], [], [''], ['p'], ['e'], ['r'], ['m'], ['a'], ['n'], ['e'], ['n'], ['t'], [''], [''], [], [''], ['l'], ['a'], ['w'], [''], [''], [], [''], ['p'], ['a'], ['s'], ['s'], [''], [''], [], [''], ['a'], ['n'], ['n'], ['u'], ['a'], ['l'], [''], [''], [], [''], ['a'], ['p'], ['p'], ['r'], ['o'], ['p'], ['r'], ['i'], ['a'], ['t'], ['i'], ['o'], ['n'], [''], [''], [], [''], ['r'], ['e'], ['q'], ['u'], ['i'], ['r'], ['e'], [''], [''], [], [''], ['a'], ['d'], ['m'], ['i'], ['n'], ['i'], ['s'], ['t'], ['r'], ['a'], ['t'], ['i'], ['o'], ['n'], [''], [''], [], [''], ['i'], ['n'], ['i'], ['t'], ['i'], ['a'], ['l'], ['l'], ['y'], [''], [''], [], [''], ['s'], ['e'], ['e'], ['k'], [''], [''], [], [''], ['i'], ['m'], ['p'], ['o'], ['r'], ['t'], ['a'], ['n'], ['t'], [''], [''], [], [''], ['h'], ['o'], ['u'], ['s'], ['e'], [''], [''], [], [''], ['r'], ['e'], ['p'], ['u'], ['b'], ['l'], ['i'], ['c'], ['a'], ['n'], ['s'], [''], [''], [], [''], ['j'], ['u'], ['d'], ['g'], ['e'], [''], [''], [], [''], ['c'], ['o'], ['l'], ['l'], ['y'], ['e'], ['r'], [''], [''], [], [''], ['f'], ['i'], ['n'], ['d'], [''], [''], [], [''], ['c'], ['o'], ['n'], ['g'], ['r'], ['e'], ['s'], ['s'], [''], [''], [], [''], ['s'], ['t'], ['a'], ['n'], ['d'], ['i'], ['n'], ['g'], [''], [''], [], [''], ['s'], ['u'], ['e'], [''], [''], [], [''], ['w'], ['h'], ['i'], ['t'], ['e'], [''], [''], [], [''], ['h'], ['o'], ['u'], ['s'], ['e'], [''], [''], [], [''], ['i'], ['s'], ['s'], ['u'], ['e'], [''], [''], [], [''], ['r'], ['u'], ['l'], ['i'], ['n'], ['g'], [''], [''], [], [''], ['l'], ['e'], ['g'], ['a'], ['l'], [''], [''], [], [''], ['e'], ['x'], ['p'], ['e'], ['r'], ['t'], [''], [''], [], [''], ['f'], ['l'], ['a'], ['w'], [''], [''], [], [''], ['w'], ['a'], ['n'], ['t'], [''], [''], [], [''], ['p'], ['r'], ['e'], ['c'], ['e'], ['d'], ['e'], ['n'], ['t'], [''], [''], [], [''], ['s'], ['e'], ['t'], [''], [''], [], [''], ['r'], ['e'], ['s'], ['t'], ['o'], ['r'], ['e'], [''], [''], [], [''], ['c'], ['o'], ['n'], ['g'], ['r'], ['e'], ['s'], ['s'], ['i'], ['o'], ['n'], ['a'], ['l'], [''], [''], [], [''], ['l'], ['e'], ['v'], ['e'], ['r'], ['a'], ['g'], ['e'], [''], [''], [], [''], ['e'], ['x'], ['e'], ['c'], ['u'], ['t'], ['i'], ['v'], ['e'], [''], [''], [], [''], ['b'], ['r'], ['a'], ['n'], ['c'], ['h'], [''], [''], [], [''], ['s'], ['p'], ['e'], ['n'], ['d'], [''], [''], [], [''], ['p'], ['o'], ['w'], ['e'], ['r'], [''], [''], [], [''], ['s'], ['t'], ['a'], ['n'], ['d'], ['i'], ['n'], ['g'], [''], [''], [], [''], ['t'], ['r'], ['u'], ['m'], ['p'], [''], [''], [], [''], ['a'], ['d'], ['m'], ['i'], ['n'], ['i'], ['s'], ['t'], ['r'], ['a'], ['t'], ['i'], ['o'], ['n'], [''], [''], [], [''], ['c'], ['o'], ['m'], ['e'], [''], [''], [], [''], ['p'], ['r'], ['e'], ['s'], ['s'], ['u'], ['r'], ['e'], [''], [''], [], [''], ['a'], ['d'], ['v'], ['o'], ['c'], ['a'], ['t'], ['e'], [''], [''], [], [''], ['p'], ['r'], ['e'], ['s'], ['i'], ['d'], ['e'], ['n'], ['t'], ['i'], ['a'], ['l'], [''], [''], [], [''], ['a'], ['u'], ['t'], ['h'], ['o'], ['r'], ['i'], ['t'], ['y'], [''], [''], [], [''], ['f'], ['i'], ['g'], ['h'], ['t'], [''], [''], [], [''], ['h'], ['o'], ['u'], ['s'], ['e'], [''], [''], [], [''], ['m'], ['a'], ['t'], ['t'], ['e'], ['r'], [''], [''], [], [''], ['s'], ['h'], ['a'], ['r'], ['e'], [''], [''], [], [''], ['v'], ['i'], ['e'], ['w'], [''], [''], [], [''], ['h'], ['e'], ['a'], ['l'], ['t'], ['h'], [''], [''], [], [''], ['c'], ['a'], ['r'], ['e'], [''], [''], [], [''], ['p'], ['r'], ['e'], ['c'], ['e'], ['d'], ['e'], ['n'], ['t'], [''], [''], [], [''], ['b'], ['r'], ['o'], ['a'], ['d'], [''], [''], [], [''], ['r'], ['e'], ['p'], ['e'], ['r'], ['c'], ['u'], ['s'], ['s'], ['i'], ['o'], ['n'], [''], [''], [], [''], ['c'], ['o'], ['m'], ['p'], ['l'], ['i'], ['c'], ['a'], ['t'], ['e'], ['d'], [''], [''], [], [''], ['s'], ['e'], ['t'], [''], [''], [], [''], ['d'], ['y'], ['n'], ['a'], ['m'], ['i'], ['c'], [''], [''], [], [''], ['i'], ['l'], ['l'], ['u'], ['s'], ['t'], ['r'], ['a'], ['t'], ['e'], [''], [''], [], [''], ['q'], ['u'], ['i'], ['c'], ['k'], [''], [''], [], [''], ['l'], ['e'], ['g'], ['a'], ['l'], [''], [''], [], [''], ['v'], ['i'], ['c'], ['t'], ['o'], ['r'], ['y'], [''], [''], [], [''], ['h'], ['o'], ['u'], ['s'], ['e'], [''], [''], [], [''], ['t'], ['r'], ['u'], ['m'], ['p'], [''], [''], [], [''], ['e'], ['r'], ['a'], [''], [''], [], [''], ['c'], ['o'], ['m'], ['e'], [''], [''], [], [''], ['c'], ['o'], ['s'], ['t'], [''], [''], [], [''], ['r'], ['e'], ['p'], ['u'], ['b'], ['l'], ['i'], ['c'], ['a'], ['n'], ['s'], [''], [''], [], [''], ['a'], ['n'], ['t'], ['i'], ['c'], ['i'], ['p'], ['a'], ['t'], ['e'], [''], [''], [], [''], ['o'], ['b'], ['a'], ['m'], ['a'], [''], [''], [], [''], ['w'], ['h'], ['i'], ['t'], ['e'], [''], [''], [], [''], ['h'], ['o'], ['u'], ['s'], ['e'], [''], ['']]\n"
          ],
          "name": "stdout"
        }
      ]
    },
    {
      "cell_type": "code",
      "metadata": {
        "colab": {
          "base_uri": "https://localhost:8080/"
        },
        "id": "VEFC7CIFPteM",
        "outputId": "34d0a7cf-4a96-4cd4-b56b-8e05c006bc68"
      },
      "source": [
        "print(movie_plot[0])"
      ],
      "execution_count": 20,
      "outputs": [
        {
          "output_type": "stream",
          "text": [
            "['washington', 'congressional', 'republicans', 'new', 'fear', 'come', 'health', 'care', 'lawsuit', 'obama', 'administration', 'win', 'incoming', 'trump', 'administration', 'choose', 'longer', 'defend', 'executive', 'branch', 'suit', 'challenge', 'administration', 'authority', 'spend', 'billion', 'dollar', 'health', 'insurance', 'subsidy', 'americans', 'handing', 'house', 'republicans', 'big', 'victory', 'issue', 'sudden', 'loss', 'dispute', 'subsidy', 'conceivably', 'cause', 'health', 'care', 'program', 'implode', 'leave', 'million', 'people', 'access', 'health', 'insurance', 'republicans', 'prepare', 'replacement', 'lead', 'chaos', 'insurance', 'market', 'spur', 'political', 'backlash', 'republicans', 'gain', 'control', 'government', 'stave', 'outcome', 'republicans', 'find', 'awkward', 'position', 'appropriate', 'huge', 'sum', 'temporarily', 'prop', 'obama', 'health', 'care', 'law', 'anger', 'conservative', 'voter', 'demand', 'end', 'law', 'year', 'twist', 'donald', 'trump', 'administration', 'worry', 'preserve', 'executive', 'branch', 'prerogative', 'choose', 'fight', 'republican', 'ally', 'house', 'central', 'question', 'dispute', 'eager', 'avoid', 'ugly', 'political', 'pileup', 'republicans', 'capitol', 'hill', 'trump', 'transition', 'team', 'game', 'handle', 'lawsuit', 'election', 'limbo', 'late', 'february', 'united', 'states', 'court', 'appeals', 'district', 'columbia', 'circuit', 'ready', 'divulge', 'strategy', 'pende', 'litigation', 'involve', 'obama', 'administration', 'congress', 'inappropriate', 'comment', 'phillip', 'blando', 'spokesman', 'trump', 'transition', 'effort', 'office', 'trump', 'administration', 'evaluate', 'case', 'relate', 'aspect', 'affordable', 'care', 'act', 'potentially', 'decision', 'judge', 'rosemary', 'collyer', 'rule', 'house', 'republicans', 'standing', 'sue', 'executive', 'branch', 'spending', 'dispute', 'obama', 'administration', 'distribute', 'health', 'insurance', 'subsidy', 'violation', 'constitution', 'approval', 'congress', 'justice', 'department', 'confident', 'judge', 'collyer', 'decision', 'reverse', 'quickly', 'appeal', 'subsidy', 'remain', 'place', 'appeal', 'successfully', 'seek', 'temporary', 'halt', 'proceeding', 'trump', 'win', 'house', 'republicans', 'month', 'tell', 'court', 'transition', 'team', 'currently', 'discuss', 'potential', 'option', 'resolution', 'matter', 'effect', 'inauguration', 'jan', 'suspension', 'case', 'house', 'lawyer', 'provide', 'future', 'administration', 'time', 'consider', 'continue', 'prosecute', 'resolve', 'appeal', 'republican', 'leadership', 'official', 'house', 'acknowledge', 'possibility', 'cascading', 'effect', 'payment', 'total', 'estimate', 'billion', 'suddenly', 'stop', 'insurer', 'receive', 'subsidy', 'exchange', 'pay', 'cost', 'deductible', 'eligible', 'consumer', 'race', 'drop', 'coverage', 'lose', 'money', 'loss', 'subsidy', 'destabilize', 'entire', 'program', 'cause', 'lack', 'confidence', 'lead', 'insurer', 'seek', 'quick', 'exit', 'anticipate', 'trump', 'administration', 'incline', 'mount', 'vigorous', 'fight', 'house', 'republicans', 'dim', 'view', 'health', 'care', 'law', 'team', 'lawyer', 'month', 'seek', 'intervene', 'case', 'behalf', 'participant', 'health', 'care', 'program', 'request', 'lawyer', 'predict', 'deal', 'house', 'republicans', 'new', 'administration', 'dismiss', 'settle', 'case', 'produce', 'devastating', 'consequence', 'individual', 'receive', 'reduction', 'nation', 'health', 'insurance', 'health', 'care', 'system', 'generally', 'matter', 'happen', 'house', 'republicans', 'want', 'prevail', 'overarch', 'concept', 'congressional', 'power', 'purse', 'right', 'congress', 'sue', 'executive', 'branch', 'violate', 'constitution', 'regard', 'spend', 'power', 'house', 'republicans', 'contend', 'congress', 'appropriate', 'money', 'subsidy', 'require', 'constitution', 'suit', 'initially', 'champion', 'john', 'boehner', 'house', 'speaker', 'time', 'later', 'house', 'committee', 'report', 'republicans', 'assert', 'administration', 'desperate', 'funding', 'require', 'treasury', 'department', 'provide', 'despite', 'widespread', 'internal', 'skepticism', 'spending', 'proper', 'white', 'house', 'spending', 'permanent', 'law', 'pass', 'annual', 'appropriation', 'require', 'administration', 'initially', 'seek', 'important', 'house', 'republicans', 'judge', 'collyer', 'find', 'congress', 'standing', 'sue', 'white', 'house', 'issue', 'ruling', 'legal', 'expert', 'flaw', 'want', 'precedent', 'set', 'restore', 'congressional', 'leverage', 'executive', 'branch', 'spend', 'power', 'standing', 'trump', 'administration', 'come', 'pressure', 'advocate', 'presidential', 'authority', 'fight', 'house', 'matter', 'share', 'view', 'health', 'care', 'precedent', 'broad', 'repercussion', 'complicated', 'set', 'dynamic', 'illustrate', 'quick', 'legal', 'victory', 'house', 'trump', 'era', 'come', 'cost', 'republicans', 'anticipate', 'obama', 'white', 'house']\n"
          ],
          "name": "stdout"
        }
      ]
    },
    {
      "cell_type": "code",
      "metadata": {
        "colab": {
          "base_uri": "https://localhost:8080/",
          "height": 232
        },
        "id": "UShLkWvN7HJS",
        "outputId": "f09e7256-b187-42a6-9803-1432bb217a13"
      },
      "source": [
        "test2 = pd.read_csv('drive/My Drive/Colab Notebooks/results/test1_sm_21.2388_sec_results.csv')\n",
        "movie_plot2 = test2['content_tokenized']\n",
        "movie_plot2 = [d.split() for d in movie_plot2]\n",
        "\n",
        "for i, column in enumerate(movie_plot2):\n",
        "  for j, word in enumerate(column):\n",
        "    movie_plot2[i][j] = removeSuffixsSentene(word)\n",
        "\n",
        "print(movie_plot2[0])"
      ],
      "execution_count": 4,
      "outputs": [
        {
          "output_type": "error",
          "ename": "NameError",
          "evalue": "ignored",
          "traceback": [
            "\u001b[0;31m---------------------------------------------------------------------------\u001b[0m",
            "\u001b[0;31mNameError\u001b[0m                                 Traceback (most recent call last)",
            "\u001b[0;32m<ipython-input-4-51ae247d5a62>\u001b[0m in \u001b[0;36m<module>\u001b[0;34m()\u001b[0m\n\u001b[0;32m----> 1\u001b[0;31m \u001b[0mtest2\u001b[0m \u001b[0;34m=\u001b[0m \u001b[0mpd\u001b[0m\u001b[0;34m.\u001b[0m\u001b[0mread_csv\u001b[0m\u001b[0;34m(\u001b[0m\u001b[0;34m'drive/My Drive/Colab Notebooks/results/test1_sm_21.2388_sec_results.csv'\u001b[0m\u001b[0;34m)\u001b[0m\u001b[0;34m\u001b[0m\u001b[0;34m\u001b[0m\u001b[0m\n\u001b[0m\u001b[1;32m      2\u001b[0m \u001b[0mmovie_plot2\u001b[0m \u001b[0;34m=\u001b[0m \u001b[0mtest2\u001b[0m\u001b[0;34m[\u001b[0m\u001b[0;34m'content_tokenized'\u001b[0m\u001b[0;34m]\u001b[0m\u001b[0;34m\u001b[0m\u001b[0;34m\u001b[0m\u001b[0m\n\u001b[1;32m      3\u001b[0m \u001b[0mmovie_plot2\u001b[0m \u001b[0;34m=\u001b[0m \u001b[0;34m[\u001b[0m\u001b[0md\u001b[0m\u001b[0;34m.\u001b[0m\u001b[0msplit\u001b[0m\u001b[0;34m(\u001b[0m\u001b[0;34m)\u001b[0m \u001b[0;32mfor\u001b[0m \u001b[0md\u001b[0m \u001b[0;32min\u001b[0m \u001b[0mmovie_plot2\u001b[0m\u001b[0;34m]\u001b[0m\u001b[0;34m\u001b[0m\u001b[0;34m\u001b[0m\u001b[0m\n\u001b[1;32m      4\u001b[0m \u001b[0;34m\u001b[0m\u001b[0m\n\u001b[1;32m      5\u001b[0m \u001b[0;32mfor\u001b[0m \u001b[0mi\u001b[0m\u001b[0;34m,\u001b[0m \u001b[0mcolumn\u001b[0m \u001b[0;32min\u001b[0m \u001b[0menumerate\u001b[0m\u001b[0;34m(\u001b[0m\u001b[0mmovie_plot2\u001b[0m\u001b[0;34m)\u001b[0m\u001b[0;34m:\u001b[0m\u001b[0;34m\u001b[0m\u001b[0;34m\u001b[0m\u001b[0m\n",
            "\u001b[0;31mNameError\u001b[0m: name 'pd' is not defined"
          ]
        }
      ]
    },
    {
      "cell_type": "code",
      "metadata": {
        "colab": {
          "base_uri": "https://localhost:8080/"
        },
        "id": "HUk8e3yhRK0S",
        "outputId": "6faa113a-4a59-461b-f20a-5209f02f4955"
      },
      "source": [
        "# #print top 50 items from the dictionary with their unique token-id\n",
        "dict_tokens = [[[dictionary[key], dictionary.token2id[dictionary[key]]] for key, value in dictionary.items() if key <= 50]]\n",
        "print (dict_tokens)"
      ],
      "execution_count": null,
      "outputs": [
        {
          "output_type": "stream",
          "text": [
            "[[['access', 0], ['acknowledge', 1], ['act', 2], ['administration', 3], ['advocate', 4], ['affordable', 5], ['ally', 6], ['americans', 7], ['anger', 8], ['annual', 9], ['anticipate', 10], ['appeal', 11], ['appeals', 12], ['appropriate', 13], ['appropriation', 14], ['approval', 15], ['aspect', 16], ['assert', 17], ['authority', 18], ['avoid', 19], ['awkward', 20], ['backlash', 21], ['behalf', 22], ['big', 23], ['billion', 24], ['blando', 25], ['boehner', 26], ['branch', 27], ['broad', 28], ['capitol', 29], ['care', 30], ['cascading', 31], ['case', 32], ['cause', 33], ['central', 34], ['challenge', 35], ['champion', 36], ['chaos', 37], ['choose', 38], ['circuit', 39], ['collyer', 40], ['columbia', 41], ['come', 42], ['comment', 43], ['committee', 44], ['complicated', 45], ['conceivably', 46], ['concept', 47], ['confidence', 48], ['confident', 49], ['congress', 50]]]\n"
          ],
          "name": "stdout"
        }
      ]
    },
    {
      "cell_type": "code",
      "metadata": {
        "colab": {
          "base_uri": "https://localhost:8080/"
        },
        "id": "p-OZDBT0RQ03",
        "outputId": "de4a3a67-c6b0-4b78-d902-6344d1075cea"
      },
      "source": [
        "corpus = [dictionary.doc2bow(desc) for desc in movie_plot]\n",
        "\n",
        "word_frequencies = [[(dictionary[id], frequency) for id, frequency in line] for line in corpus[0:3]]\n",
        "\n",
        "print(word_frequencies)\n",
        "\n",
        "for index, value in enumerate(word_frequencies): \n",
        "    print(index, value)"
      ],
      "execution_count": null,
      "outputs": [
        {
          "output_type": "stream",
          "text": [
            "[[('access', 1), ('acknowledge', 1), ('act', 1), ('administration', 13), ('advocate', 1), ('affordable', 1), ('ally', 1), ('americans', 1), ('anger', 1), ('annual', 1), ('anticipate', 2), ('appeal', 3), ('appeals', 1), ('appropriate', 2), ('appropriation', 1), ('approval', 1), ('aspect', 1), ('assert', 1), ('authority', 2), ('avoid', 1), ('awkward', 1), ('backlash', 1), ('behalf', 1), ('big', 1), ('billion', 2), ('blando', 1), ('boehner', 1), ('branch', 5), ('broad', 1), ('capitol', 1), ('care', 8), ('cascading', 1), ('case', 4), ('cause', 2), ('central', 1), ('challenge', 1), ('champion', 1), ('chaos', 1), ('choose', 2), ('circuit', 1), ('collyer', 3), ('columbia', 1), ('come', 3), ('comment', 1), ('committee', 1), ('complicated', 1), ('conceivably', 1), ('concept', 1), ('confidence', 1), ('confident', 1), ('congress', 5), ('congressional', 3), ('consequence', 1), ('conservative', 1), ('consider', 1), ('constitution', 3), ('consumer', 1), ('contend', 1), ('continue', 1), ('control', 1), ('cost', 2), ('court', 2), ('coverage', 1), ('currently', 1), ('deal', 1), ('decision', 2), ('deductible', 1), ('defend', 1), ('demand', 1), ('department', 2), ('desperate', 1), ('despite', 1), ('destabilize', 1), ('devastating', 1), ('dim', 1), ('discuss', 1), ('dismiss', 1), ('dispute', 3), ('distribute', 1), ('district', 1), ('divulge', 1), ('dollar', 1), ('donald', 1), ('drop', 1), ('dynamic', 1), ('eager', 1), ('effect', 2), ('effort', 1), ('election', 1), ('eligible', 1), ('end', 1), ('entire', 1), ('era', 1), ('estimate', 1), ('evaluate', 1), ('exchange', 1), ('executive', 5), ('exit', 1), ('expert', 1), ('fear', 1), ('february', 1), ('fight', 3), ('find', 2), ('flaw', 1), ('funding', 1), ('future', 1), ('gain', 1), ('game', 1), ('generally', 1), ('government', 1), ('halt', 1), ('handing', 1), ('handle', 1), ('happen', 1), ('health', 11), ('hill', 1), ('house', 18), ('huge', 1), ('illustrate', 1), ('implode', 1), ('important', 1), ('inappropriate', 1), ('inauguration', 1), ('incline', 1), ('incoming', 1), ('individual', 1), ('initially', 2), ('insurance', 5), ('insurer', 2), ('internal', 1), ('intervene', 1), ('involve', 1), ('issue', 2), ('jan', 1), ('john', 1), ('judge', 3), ('justice', 1), ('lack', 1), ('late', 1), ('later', 1), ('law', 4), ('lawsuit', 2), ('lawyer', 3), ('lead', 2), ('leadership', 1), ('leave', 1), ('legal', 2), ('leverage', 1), ('limbo', 1), ('litigation', 1), ('longer', 1), ('lose', 1), ('loss', 2), ('market', 1), ('matter', 3), ('million', 1), ('money', 2), ('month', 2), ('mount', 1), ('nation', 1), ('new', 2), ('obama', 5), ('office', 1), ('official', 1), ('option', 1), ('outcome', 1), ('overarch', 1), ('participant', 1), ('pass', 1), ('pay', 1), ('payment', 1), ('pende', 1), ('people', 1), ('permanent', 1), ('phillip', 1), ('pileup', 1), ('place', 1), ('political', 2), ('position', 1), ('possibility', 1), ('potential', 1), ('potentially', 1), ('power', 3), ('precedent', 2), ('predict', 1), ('prepare', 1), ('prerogative', 1), ('preserve', 1), ('presidential', 1), ('pressure', 1), ('prevail', 1), ('proceeding', 1), ('produce', 1), ('program', 3), ('prop', 1), ('proper', 1), ('prosecute', 1), ('provide', 2), ('purse', 1), ('question', 1), ('quick', 2), ('quickly', 1), ('race', 1), ('ready', 1), ('receive', 2), ('reduction', 1), ('regard', 1), ('relate', 1), ('remain', 1), ('repercussion', 1), ('replacement', 1), ('report', 1), ('republican', 2), ('republicans', 15), ('request', 1), ('require', 3), ('resolution', 1), ('resolve', 1), ('restore', 1), ('reverse', 1), ('right', 1), ('rosemary', 1), ('rule', 1), ('ruling', 1), ('seek', 4), ('set', 2), ('settle', 1), ('share', 1), ('skepticism', 1), ('speaker', 1), ('spend', 3), ('spending', 3), ('spokesman', 1), ('spur', 1), ('standing', 3), ('states', 1), ('stave', 1), ('stop', 1), ('strategy', 1), ('subsidy', 7), ('successfully', 1), ('sudden', 1), ('suddenly', 1), ('sue', 3), ('suit', 2), ('sum', 1), ('suspension', 1), ('system', 1), ('team', 3), ('tell', 1), ('temporarily', 1), ('temporary', 1), ('time', 2), ('total', 1), ('transition', 3), ('treasury', 1), ('trump', 9), ('twist', 1), ('ugly', 1), ('united', 1), ('victory', 2), ('view', 2), ('vigorous', 1), ('violate', 1), ('violation', 1), ('voter', 1), ('want', 2), ('washington', 1), ('white', 3), ('widespread', 1), ('win', 2), ('worry', 1), ('year', 1)], [('access', 1), ('acknowledge', 1), ('advocate', 1), ('ally', 1), ('authority', 2), ('avoid', 1), ('care', 1), ('case', 18), ('cause', 2), ('challenge', 1), ('choose', 1), ('come', 8), ('comment', 1), ('confident', 1), ('court', 2), ('deal', 2), ('decision', 1), ('defend', 1), ('department', 14), ('desperate', 1), ('district', 4), ('drop', 3), ('effect', 1), ('effort', 3), ('end', 4), ('era', 2), ('fear', 2), ('fight', 3), ('find', 4), ('government', 1), ('handle', 5), ('happen', 2), ('house', 4), ('judge', 1), ('lack', 1), ('late', 3), ('later', 6), ('law', 2), ('lawsuit', 1), ('lawyer', 1), ('lead', 1), ('leave', 4), ('market', 2), ('money', 2), ('month', 4), ('new', 12), ('office', 4), ('pay', 2), ('payment', 1), ('people', 19), ('place', 3), ('pressure', 3), ('prop', 1), ('proper', 1), ('prosecute', 1), ('provide', 1), ('race', 1), ('remain', 2), ('report', 8), ('request', 1), ('resolve', 1), ('right', 1), ('spur', 1), ('standing', 1), ('states', 1), ('stop', 5), ('strategy', 1), ('system', 1), ('tell', 5), ('time', 4), ('united', 1), ('view', 2), ('want', 6), ('washington', 1), ('white', 1), ('win', 3), ('worry', 1), ('year', 29), ('ability', 1), ('accord', 2), ('account', 1), ('action', 1), ('activity', 2), ('add', 1), ('addict', 1), ('additional', 1), ('advise', 1), ('affect', 1), ('afraid', 1), ('age', 1), ('aged', 1), ('aggressive', 1), ('ago', 3), ('agree', 1), ('ain', 1), ('alert', 1), ('alexander', 1), ('allocate', 1), ('allow', 1), ('alongside', 1), ('anachronism', 1), ('analysis', 2), ('announce', 1), ('answer', 7), ('apartment', 6), ('appear', 2), ('appearance', 1), ('approach', 1), ('area', 4), ('argenis', 1), ('army', 2), ('arrest', 8), ('arrive', 1), ('art', 1), ('ashe', 1), ('ask', 3), ('assault', 1), ('assign', 2), ('assignment', 1), ('association', 1), ('attack', 2), ('attempt', 1), ('attention', 2), ('attorney', 3), ('august', 1), ('aunt', 1), ('avenue', 2), ('average', 2), ('away', 2), ('backpack', 1), ('backward', 1), ('bad', 1), ('badg', 1), ('bag', 1), ('band', 1), ('beat', 2), ('believe', 2), ('bend', 1), ('betances', 5), ('better', 1), ('bicycle', 1), ('bike', 1), ('bill', 1), ('black', 3), ('blasio', 2), ('block', 2), ('blood', 2), ('bloods', 1), ('bloomberg', 1), ('blow', 3), ('body', 2), ('borough', 4), ('boss', 5), ('bottle', 1), ('box', 1), ('boy', 3), ('boyce', 3), ('brawl', 1), ('break', 1), ('breeze', 1), ('brian', 1), ('briefly', 1), ('bring', 5), ('broadly', 1), ('bronx', 24), ('brooklyn', 6), ('build', 2), ('building', 5), ('bullet', 1), ('bulletproof', 1), ('burden', 2), ('burn', 1), ('business', 1), ('bust', 1), ('busy', 1), ('buy', 3), ('cadre', 1), ('calculation', 1), ('caller', 1), ('calm', 1), ('camera', 3), ('campaign', 1), ('candle', 1), ('car', 2), ('card', 1), ('carry', 5), ('caseload', 1), ('casework', 1), ('cast', 1), ('catch', 3), ('cell', 1), ('centralized', 1), ('chair', 1), ('chance', 1), ('channel', 1), ('charge', 4), ('chase', 1), ('chasm', 1), ('chief', 4), ('child', 1), ('chinese', 1), ('choice', 2), ('city', 25), ('citywide', 3), ('civil', 1), ('civilian', 1), ('clark', 1), ('clear', 3), ('clinic', 2), ('close', 3), ('closely', 1), ('cloud', 1), ('club', 1), ('cocaine', 1), ('code', 2), ('cold', 2), ('collect', 1), ('command', 4), ('commander', 3), ('commissioner', 3), ('community', 9), ('compare', 4), ('complain', 1), ('complaint', 12), ('complete', 1), ('complex', 1), ('computer', 2), ('concern', 1), ('conduct', 1), ('confidential', 1), ('confuse', 1), ('constantly', 1), ('contract', 1), ('contrast', 1), ('conversation', 2), ('conviction', 1), ('cooperate', 5), ('cooperator', 1), ('coordination', 2), ('cop', 2), ('corner', 2), ('cough', 1), ('council', 1), ('counselor', 1), ('count', 1), ('counterterrorism', 2), ('country', 2), ('couple', 1), ('course', 1), ('courthouse', 1), ('courtlandt', 1), ('cover', 2), ('cower', 1), ('create', 1), ('credibility', 1), ('credit', 1), ('crew', 4), ('crime', 23), ('criminal', 2), ('crowd', 1), ('cry', 1), ('culture', 1), ('customer', 2), ('cut', 1), ('danger', 2), ('dangerous', 1), ('darcel', 1), ('dark', 1), ('datum', 3), ('daughter', 6), ('day', 7), ('dead', 1), ('deadly', 1), ('dealer', 3), ('dealing', 1), ('death', 1), ('decide', 1), ('decline', 1), ('dedicate', 1), ('defense', 1), ('deployment', 2), ('deputy', 2), ('deserve', 1), ('design', 1), ('desk', 2), ('detail', 2), ('detective', 43), ('detectives', 1), ('diaz', 1), ('didn', 1), ('different', 2), ('differently', 1), ('difficult', 2), ('direction', 1), ('discard', 1), ('disciplining', 1), ('discretion', 1), ('disorder', 1), ('disparity', 2), ('distraction', 1), ('distressed', 1), ('document', 2), ('domestic', 1), ('don', 3), ('door', 11), ('dope', 1), ('downgrade', 2), ('dozen', 2), ('draw', 2), ('drink', 1), ('drive', 1), ('drug', 13), ('dry', 1), ('dysfunction', 1), ('early', 2), ('east', 6), ('easy', 2), ('edge', 1), ('elect', 1), ('email', 1), ('embitter', 1), ('emerge', 1), ('employ', 1), ('encounter', 1), ('endowment', 1), ('enhance', 1), ('enrol', 1), ('equip', 1), ('espada', 1), ('eventually', 1), ('evidence', 1), ('example', 2), ('exist', 1), ('existence', 1), ('explain', 1), ('extend', 1), ('extensive', 1), ('extreme', 1), ('fail', 2), ('faith', 3), ('fall', 1), ('family', 8), ('far', 1), ('fatal', 1), ('fatherless', 1), ('fearful', 1), ('feed', 1), ('feel', 6), ('felony', 7), ('fernandez', 27), ('fetid', 1), ('feud', 1), ('file', 2), ('fire', 1), ('firearm', 1), ('fix', 1), ('fixing', 1), ('flare', 1), ('flashing', 1), ('flee', 1), ('flood', 1), ('floodlight', 1), ('flourish', 1), ('flux', 1), ('focus', 1), ('fold', 1), ('footage', 1), ('force', 4), ('forgiving', 1), ('forgotten', 1), ('freedom', 1), ('fresh', 1), ('friend', 4), ('friendly', 1), ('frisk', 2), ('frustration', 1), ('gang', 8), ('gap', 1), ('generate', 1), ('gentrification', 1), ('giacalone', 1), ('glitter', 1), ('god', 1), ('gola', 1), ('grab', 1), ('graffiti', 1), ('gramercy', 2), ('grand', 1), ('grapple', 1), ('grave', 1), ('great', 1), ('grieve', 1), ('grievous', 1), ('ground', 1), ('grow', 5), ('guidance', 2), ('gun', 6), ('gunfire', 1), ('gunman', 1), ('gunshot', 1), ('guy', 1), ('half', 1), ('hallmark', 1), ('hallway', 7), ('hammer', 1), ('hand', 2), ('handful', 1), ('harass', 1), ('harassment', 1), ('hard', 1), ('hardest', 1), ('hark', 1), ('harlem', 1), ('haven', 2), ('head', 2), ('headache', 1), ('headquarters', 2), ('hear', 4), ('heaviness', 1), ('heavy', 1), ('hector', 1), ('height', 1), ('heights', 1), ('help', 13), ('hennessy', 3), ('high', 4), ('hint', 1), ('hire', 3), ('hispanic', 1), ('historically', 1), ('hit', 2), ('hobble', 1), ('hold', 3), ('home', 4), ('homeless', 1), ('homicide', 8), ('hope', 3), ('hospital', 1), ('hound', 1), ('hour', 4), ('houses', 5), ('housing', 4), ('howard', 1), ('hypodermic', 1), ('ignore', 3), ('illness', 2), ('immigrant', 1), ('impartial', 1), ('implicate', 1), ('improve', 1), ('inadequate', 1), ('inclined', 1), ('include', 1), ('increasingly', 1), ('inequity', 1), ('information', 2), ('infraction', 1), ('inhaler', 1), ('inheritance', 1), ('initial', 1), ('injury', 1), ('inquiry', 1), ('inside', 1), ('inspector', 5), ('instinct', 1), ('interview', 3), ('intimidate', 1), ('investigate', 4), ('investigation', 2), ('investigative', 2), ('investigator', 5), ('island', 5), ('james', 3), ('january', 2), ('jeff', 1), ('jerry', 1), ('job', 1), ('join', 1), ('joseph', 1), ('juror', 1), ('justify', 1), ('kelly', 1), ('key', 1), ('kill', 2), ('killer', 2), ('killing', 3), ('kind', 1), ('know', 4), ('label', 1), ('land', 1), ('landesberg', 1), ('laptop', 1), ('larceny', 1), ('largely', 1), ('learn', 3), ('level', 1), ('lewis', 1), ('life', 1), ('light', 2), ('like', 14), ('linger', 1), ('list', 1), ('listen', 2), ('little', 1), ('live', 3), ('load', 1), ('lobby', 1), ('local', 3), ('locate', 1), ('lock', 2), ('loft', 1), ('log', 2), ('long', 6), ('longtime', 1), ('look', 2), ('lopuzzo', 6), ('lot', 2), ('low', 2), ('lower', 4), ('maintenance', 1), ('major', 2), ('man', 14), ('manhattan', 13), ('maria', 1), ('marijuana', 2), ('mary', 1), ('mayor', 2), ('mean', 1), ('meantime', 1), ('median', 1), ('meenagh', 1), ('meet', 1), ('memory', 1), ('menacing', 1), ('mental', 1), ('merciless', 1), ('metal', 2), ('methadone', 2), ('michael', 3), ('mile', 1), ('minimal', 1), ('minor', 1), ('minority', 1), ('minute', 1), ('misconduct', 1), ('miss', 2), ('mistrust', 2), ('morale', 2), ('morning', 1), ('mother', 4), ('mott', 1), ('multiple', 1), ('murder', 17), ('muscle', 1), ('narcotic', 3), ('near', 2), ('nearly', 1), ('need', 4), ('needle', 1), ('neglect', 1), ('neighbor', 1), ('neighborhood', 11), ('neill', 2), ('newly', 1), ('newspaper', 1), ('nonfatal', 1), ('note', 6), ('november', 1), ('number', 4), ('obstacle', 1), ('obtain', 1), ('occasionally', 1), ('oct', 1), ('october', 1), ('offer', 1), ('officer', 34), ('old', 2), ('online', 1), ('open', 2), ('operation', 1), ('opposite', 1), ('outer', 1), ('outside', 6), ('overall', 1), ('overcome', 1), ('overflow', 1), ('overlook', 1), ('overscrutinize', 1), ('packing', 1), ('paint', 1), ('palladino', 1), ('paper', 2), ('paperwork', 1), ('paradox', 1), ('paralyze', 1), ('paraphernalia', 1), ('parent', 2), ('park', 4), ('parking', 1), ('past', 1), ('patrice', 1), ('patrol', 2), ('pattern', 1), ('peephole', 1), ('peer', 1), ('percent', 11), ('perception', 1), ('period', 3), ('permission', 1), ('personal', 1), ('personnel', 2), ('phone', 2), ('play', 1), ('playground', 1), ('plea', 2), ('police', 36), ('policing', 3), ('politician', 1), ('poor', 2), ('post', 2), ('pound', 1), ('practice', 1), ('precinct', 59), ('predominantly', 1), ('presage', 1), ('present', 2), ('president', 1), ('prestigious', 1), ('prevalence', 1), ('preventive', 1), ('prime', 1), ('priority', 1), ('prison', 1), ('proactive', 1), ('probably', 1), ('problem', 4), ('process', 1), ('project', 2), ('property', 1), ('prosecution', 1), ('prosecutor', 2), ('protect', 4), ('protection', 2), ('prove', 1), ('psa', 1), ('public', 3), ('punish', 1), ('push', 1), ('queens', 5), ('quiet', 1), ('quieter', 1), ('quote', 1), ('rape', 2), ('rarely', 2), ('rate', 5), ('rattle', 1), ('raymond', 1), ('reality', 1), ('reason', 2), ('reassess', 1), ('recent', 3), ('recommend', 1), ('record', 2), ('refer', 1), ('reflect', 1), ('refuse', 3), ('regular', 1), ('relation', 1), ('relative', 1), ('relentless', 1), ('relief', 1), ('relieve', 1), ('reluctant', 1), ('rely', 1), ('remind', 1), ('remove', 1), ('rent', 1), ('repeat', 1), ('resident', 5), ('residential', 1), ('residue', 2), ('resistance', 2), ('resource', 4), ('respond', 1), ('response', 3), ('restructuring', 1), ('result', 1), ('resume', 1), ('retaliation', 1), ('retire', 2), ('retribution', 1), ('return', 1), ('reveal', 1), ('ride', 1), ('rikers', 1), ('ring', 1), ('rise', 1), ('risk', 3), ('river', 1), ('robber', 1), ('robbery', 6), ('robert', 1), ('robust', 1), ('roll', 1), ('rookie', 1), ('room', 2), ('rosado', 1), ('roughly', 1), ('routinely', 1), ('ruben', 1), ('ruckus', 1), ('run', 1), ('rush', 1), ('russell', 1), ('saddle', 2), ('safely', 1), ('safety', 1), ('sale', 1), ('scan', 1), ('scandal', 2), ('scant', 1), ('scatter', 1), ('scene', 2), ('school', 4), ('second', 1), ('secret', 1), ('security', 1), ('send', 4), ('separately', 1), ('september', 2), ('sergeant', 7), ('service', 1), ('sgt', 1), ('sharp', 1), ('shaughnessy', 1), ('shell', 1), ('shift', 2), ('shoot', 4), ('shooting', 5), ('shorthand', 1), ('shout', 1), ('shrink', 2), ('silos', 1), ('similar', 1), ('simmer', 1), ('single', 1), ('sit', 2), ('situation', 2), ('skeptical', 1), ('slam', 1), ('slap', 1), ('slash', 1), ('sling', 1), ('slip', 1), ('small', 3), ('smoke', 3), ('snitch', 2), ('social', 1), ('solve', 3), ('son', 5), ('sort', 1), ('south', 5), ('southern', 3), ('spawn', 1), ('speak', 2), ('specialized', 1), ('spill', 1), ('splintered', 1), ('spokeswoman', 1), ('squad', 14), ('square', 3), ('squeeze', 1), ('stabbing', 1), ('staff', 1), ('staffing', 5), ('standard', 1), ('start', 3), ('startling', 1), ('stash', 1), ('statement', 1), ('staten', 4), ('station', 4), ('stay', 2), ('steal', 1), ('stem', 2), ('stick', 1), ('stoop', 1), ('story', 2), ('straight', 1), ('strain', 1), ('streamline', 1), ('street', 7), ('strew', 1), ('string', 1), ('strip', 1), ('struggle', 1), ('studio', 1), ('stuffy', 1), ('style', 1), ('subset', 1), ('substation', 6), ('suffer', 1), ('sullivan', 2), ('summer', 5), ('summon', 3), ('supervisor', 2), ('support', 1), ('sure', 2), ('surpass', 1), ('surveillance', 2), ('suspect', 2), ('sweep', 2), ('tactic', 2), ('takedown', 1), ('takeout', 1), ('tale', 1), ('talk', 5), ('tall', 1), ('tape', 1), ('target', 2), ('task', 1), ('tatter', 1), ('tech', 1), ('teenager', 2), ('tenth', 1), ('terrible', 1), ('testify', 4), ('therapist', 2), ('thin', 1), ('thing', 1), ('think', 1), ('threat', 4), ('threaten', 1), ('tick', 2), ('ticket', 3), ('tide', 1), ('tie', 2), ('times', 3), ('tip', 3), ('tirelessly', 1), ('today', 1), ('trail', 1), ('troubled', 1), ('trust', 2), ('try', 5), ('turn', 6), ('twice', 1), ('typically', 1), ('unanswered', 1), ('unchanged', 1), ('underfunde', 1), ('underground', 1), ('understaffe', 1), ('understaffing', 1), ('understand', 1), ('unencumbered', 1), ('union', 2), ('unit', 5), ('unlikely', 1), ('unsolved', 3), ('upper', 1), ('upstairs', 1), ('urban', 1), ('urn', 1), ('use', 4), ('usual', 1), ('vest', 1), ('veteran', 1), ('vice', 1), ('vicious', 1), ('victim', 11), ('video', 4), ('violence', 4), ('violent', 9), ('visit', 1), ('votive', 1), ('vow', 1), ('wait', 2), ('walk', 5), ('wander', 1), ('ward', 1), ('warn', 1), ('warp', 1), ('watch', 2), ('wave', 1), ('way', 4), ('wealthy', 1), ('weapon', 1), ('weed', 1), ('week', 2), ('wheel', 1), ('whiter', 1), ('wife', 5), ('wilt', 1), ('window', 2), ('wire', 1), ('wish', 1), ('witness', 6), ('woman', 2), ('wooden', 1), ('work', 12), ('worker', 1), ('workload', 1), ('worsen', 1), ('wound', 1), ('write', 5), ('yellow', 1), ('york', 7), ('young', 8)], [('act', 2), ('administration', 1), ('aspect', 1), ('care', 1), ('case', 1), ('cause', 1), ('choose', 1), ('come', 2), ('consider', 1), ('continue', 1), ('effect', 1), ('end', 1), ('find', 5), ('gain', 1), ('happen', 1), ('house', 3), ('huge', 1), ('involve', 1), ('jan', 1), ('john', 1), ('lack', 1), ('late', 1), ('later', 3), ('law', 2), ('leave', 2), ('lose', 1), ('loss', 1), ('month', 3), ('new', 3), ('official', 1), ('pass', 2), ('people', 2), ('place', 1), ('question', 3), ('quickly', 2), ('remain', 1), ('seek', 4), ('spend', 1), ('states', 6), ('tell', 1), ('time', 2), ('united', 6), ('want', 2), ('white', 1), ('year', 9), ('account', 1), ('add', 1), ('allow', 1), ('answer', 2), ('appear', 1), ('appearance', 1), ('arrive', 1), ('art', 9), ('attack', 1), ('attempt', 1), ('beat', 1), ('bring', 2), ('building', 1), ('buy', 1), ('card', 1), ('chance', 2), ('child', 4), ('chinese', 10), ('clear', 1), ('country', 2), ('create', 4), ('credit', 1), ('cry', 1), ('daughter', 2), ('day', 2), ('death', 3), ('decline', 1), ('design', 4), ('detail', 2), ('different', 2), ('direction', 2), ('document', 1), ('dozen', 1), ('draw', 2), ('early', 1), ('explain', 1), ('family', 4), ('far', 1), ('feel', 1), ('fire', 3), ('flourish', 1), ('friend', 2), ('great', 1), ('gunfire', 1), ('half', 1), ('hallmark', 1), ('hand', 1), ('hard', 1), ('help', 1), ('high', 2), ('hold', 1), ('home', 1), ('hope', 2), ('immigrant', 4), ('include', 5), ('inspector', 1), ('interview', 3), ('island', 7), ('job', 2), ('join', 4), ('kill', 1), ('know', 5), ('land', 1), ('largely', 1), ('learn', 1), ('level', 1), ('life', 5), ('like', 5), ('linger', 1), ('little', 1), ('live', 3), ('long', 3), ('longtime', 1), ('look', 6), ('lower', 1), ('major', 2), ('man', 1), ('manhattan', 1), ('mean', 1), ('mother', 4), ('nearly', 1), ('need', 1), ('newly', 2), ('newspaper', 1), ('note', 1), ('number', 2), ('oct', 1), ('open', 3), ('overlook', 1), ('paint', 5), ('paper', 6), ('president', 1), ('property', 1), ('public', 3), ('reason', 2), ('record', 1), ('relative', 3), ('resident', 1), ('return', 1), ('scene', 2), ('school', 4), ('second', 1), ('send', 1), ('separately', 1), ('shoot', 1), ('similar', 1), ('small', 3), ('son', 5), ('southern', 1), ('staff', 1), ('start', 1), ('station', 1), ('stay', 1), ('street', 1), ('studio', 8), ('style', 2), ('summer', 1), ('terrible', 1), ('think', 1), ('today', 1), ('try', 2), ('use', 2), ('video', 1), ('wife', 1), ('window', 2), ('work', 15), ('write', 1), ('york', 1), ('young', 4), ('able', 1), ('acclaim', 1), ('adamantly', 1), ('adapt', 1), ('admission', 1), ('adult', 1), ('affair', 1), ('afford', 1), ('affront', 1), ('afterward', 3), ('airworthy', 1), ('america', 2), ('american', 2), ('americanize', 1), ('amid', 1), ('andrews', 1), ('angel', 4), ('angeles', 5), ('angry', 1), ('animate', 2), ('animated', 2), ('animation', 5), ('animator', 1), ('annette', 1), ('apart', 1), ('architectural', 1), ('arrange', 1), ('arrival', 3), ('arthur', 1), ('artist', 13), ('artistic', 1), ('artists', 3), ('asian', 1), ('asians', 1), ('aspirant', 1), ('assume', 1), ('astonishing', 1), ('atmospheric', 1), ('attend', 1), ('attune', 1), ('austrian', 1), ('author', 1), ('aware', 1), ('background', 4), ('bambi', 8), ('barely', 1), ('baroque', 1), ('bay', 1), ('bear', 2), ('begin', 2), ('belatedly', 1), ('benji', 1), ('bestow', 1), ('bin', 1), ('birth', 1), ('bitter', 1), ('blue', 1), ('boardinghouse', 2), ('book', 3), ('brooding', 1), ('brothel', 1), ('brothers', 3), ('brush', 2), ('bunch', 1), ('butcher', 1), ('butterfly', 1), ('button', 1), ('cafeteria', 1), ('calif', 1), ('california', 2), ('calligrapher', 1), ('calligraphy', 1), ('calling', 1), ('camouflage', 1), ('camp', 1), ('canemaker', 5), ('canvas', 1), ('capitalize', 1), ('career', 1), ('celebrated', 1), ('cent', 1), ('center', 1), ('centipede', 1), ('century', 1), ('character', 2), ('chester', 1), ('chicago', 1), ('christmas', 1), ('chronic', 1), ('chronicle', 1), ('circumvent', 1), ('citizen', 2), ('claim', 1), ('climate', 1), ('coach', 1), ('coast', 1), ('collector', 1), ('college', 1), ('color', 2), ('coloring', 1), ('company', 2), ('confine', 1), ('confirm', 1), ('constrain', 1), ('contemplate', 1), ('contribution', 2), ('crazy', 1), ('creation', 1), ('creature', 1), ('critic', 1), ('curate', 1), ('curtail', 1), ('dec', 1), ('decade', 2), ('december', 1), ('deception', 1), ('deep', 1), ('deer', 1), ('dementia', 1), ('den', 1), ('deportation', 1), ('desaturated', 1), ('designer', 1), ('destroy', 1), ('detain', 1), ('die', 2), ('dinnerware', 1), ('dip', 1), ('direct', 1), ('director', 1), ('discrimination', 1), ('disney', 15), ('disperse', 1), ('documentary', 1), ('dossier', 1), ('drastically', 1), ('drawing', 4), ('dwarfs', 1), ('dynasty', 2), ('earlier', 1), ('earn', 1), ('earthquake', 1), ('economic', 1), ('eld', 2), ('elegant', 1), ('elementary', 1), ('ellis', 2), ('embark', 1), ('employee', 1), ('encourage', 3), ('endure', 2), ('enjoy', 1), ('ensue', 1), ('ensure', 1), ('enter', 1), ('entirely', 1), ('entitle', 1), ('envision', 1), ('epithet', 1), ('error', 1), ('exclusion', 1), ('exhibit', 1), ('exhibition', 2), ('exposure', 1), ('exquisite', 1), ('extent', 1), ('face', 1), ('fact', 2), ('false', 1), ('fantastical', 1), ('farming', 1), ('father', 12), ('fawn', 1), ('feature', 1), ('felix', 1), ('figure', 2), ('film', 7), ('filmmaker', 1), ('fine', 1), ('finished', 1), ('fledgling', 1), ('fling', 1), ('flock', 1), ('flower', 1), ('follow', 1), ('fong', 1), ('foot', 1), ('forest', 2), ('form', 1), ('formal', 1), ('formidable', 1), ('forsook', 1), ('fortune', 1), ('found', 1), ('francisco', 4), ('fred', 1), ('friday', 1), ('funicello', 1), ('gaing', 1), ('gambling', 1), ('gee', 2), ('gen', 8), ('general', 1), ('generation', 1), ('ghostly', 1), ('goal', 1), ('gold', 1), ('good', 1), ('graduate', 1), ('grandchild', 1), ('group', 3), ('guangdong', 1), ('hadn', 1), ('harbor', 1), ('hate', 1), ('haunt', 1), ('heritage', 1), ('historian', 1), ('hollywood', 3), ('honor', 1), ('houseboy', 2), ('hunter', 1), ('identity', 1), ('ill', 1), ('illustration', 2), ('illustrator', 1), ('immigration', 5), ('impasse', 1), ('impose', 1), ('inaugural', 1), ('incarceration', 1), ('indefinite', 1), ('indifferent', 1), ('indignity', 1), ('influence', 3), ('inform', 2), ('ink', 1), ('inquire', 1), ('inquisition', 1), ('inspiration', 1), ('inspirational', 2), ('inspire', 1), ('institute', 3), ('intermediate', 1), ('internment', 1), ('interpreter', 1), ('interrogate', 2), ('interrogation', 2), ('invoke', 1), ('irrevocable', 1), ('isolation', 1), ('iwo', 1), ('janitor', 1), ('japanese', 1), ('jima', 1), ('julie', 1), ('junior', 2), ('kay', 1), ('keenly', 1), ('kim', 2), ('kite', 1), ('kitemaker', 1), ('klee', 1), ('lake', 1), ('landscape', 5), ('lapel', 1), ('laundryman', 1), ('lay', 2), ('leading', 1), ('leaf', 1), ('legend', 1), ('lend', 2), ('lest', 1), ('let', 3), ('library', 1), ('limit', 1), ('line', 1), ('lisa', 1), ('lone', 1), ('loophole', 1), ('los', 5), ('love', 2), ('lush', 1), ('lyrical', 1), ('macmurray', 1), ('maintain', 1), ('maker', 1), ('march', 1), ('marginalization', 1), ('mark', 1), ('married', 1), ('match', 1), ('matisse', 1), ('member', 1), ('memorize', 1), ('menial', 1), ('merchant', 1), ('mere', 1), ('meticulously', 1), ('miserable', 2), ('mistake', 1), ('misty', 1), ('modernist', 1), ('moody', 1), ('mountain', 1), ('movement', 2), ('municipal', 1), ('museum', 5), ('music', 1), ('mysterious', 1), ('narrative', 1), ('nature', 1), ('nightly', 1), ('nonfiction', 1), ('noteworthy', 1), ('novel', 1), ('novelty', 1), ('obituary', 1), ('oblige', 1), ('occasion', 1), ('okubo', 2), ('organize', 1), ('oriental', 2), ('ornate', 1), ('otis', 3), ('outdoor', 1), ('outstanding', 1), ('owl', 1), ('painstaking', 1), ('painter', 4), ('painting', 4), ('palette', 1), ('pamela', 1), ('pasadena', 1), ('pastel', 1), ('paul', 1), ('pearl', 1), ('permanently', 1), ('person', 1), ('petal', 1), ('phase', 1), ('picasso', 1), ('picture', 1), ('pose', 2), ('possibly', 1), ('poverty', 1), ('praise', 1), ('premiere', 1), ('prepared', 1), ('presence', 1), ('previous', 1), ('previously', 1), ('printmaker', 1), ('proclaim', 1), ('production', 2), ('professional', 1), ('progress', 1), ('promote', 1), ('prospect', 2), ('province', 1), ('quality', 3), ('racial', 1), ('rank', 1), ('reach', 1), ('rebel', 1), ('recall', 3), ('recipient', 1), ('recognition', 3), ('render', 1), ('renowned', 2), ('repetitive', 1), ('represent', 1), ('reprieve', 1), ('resentment', 1), ('restriction', 1), ('retirement', 2), ('retrospective', 3), ('rice', 1), ('rigorous', 2), ('romanize', 1), ('ruth', 2), ('sacramento', 2), ('salten', 1), ('san', 4), ('sands', 1), ('sandwich', 1), ('scared', 1), ('scenery', 1), ('scholarship', 2), ('schoolteacher', 1), ('scrape', 1), ('sea', 1), ('sell', 1), ('separate', 1), ('separation', 1), ('sequence', 1), ('series', 2), ('seven', 1), ('severe', 1), ('shop', 2), ('sight', 1), ('sign', 2), ('silhouette', 1), ('simple', 1), ('simultaneously', 1), ('sister', 1), ('sketch', 2), ('sky', 3), ('slowly', 1), ('snow', 1), ('song', 2), ('soon', 1), ('space', 1), ('spare', 2), ('special', 1), ('specifically', 1), ('split', 1), ('sponsoring', 1), ('spy', 1), ('stand', 1), ('stark', 1), ('state', 1), ('steady', 1), ('stenographer', 1), ('storyboard', 1), ('streak', 1), ('strike', 3), ('stroke', 1), ('student', 2), ('study', 1), ('subject', 2), ('subtly', 1), ('success', 1), ('suggest', 1), ('sunland', 2), ('suppose', 1), ('survivor', 1), ('swallow', 1), ('tai', 3), ('talent', 2), ('teacher', 2), ('thousand', 2), ('title', 1), ('tom', 2), ('trace', 1), ('train', 2), ('travel', 4), ('tree', 2), ('truly', 1), ('tuition', 1), ('tyrus', 10), ('undergo', 1), ('unforeseen', 1), ('university', 1), ('unknown', 1), ('unmistakable', 1), ('unofficially', 1), ('vastly', 1), ('vibrant', 1), ('village', 3), ('visual', 1), ('wake', 1), ('walt', 3), ('war', 3), ('warner', 3), ('wars', 1), ('water', 3), ('watercolor', 1), ('wear', 1), ('weather', 1), ('welcome', 1), ('west', 1), ('wide', 1), ('widely', 1), ('wild', 1), ('wong', 37), ('wongs', 1), ('woods', 1), ('works', 1), ('world', 2), ('writer', 1), ('yeo', 8), ('yoo', 1), ('yow', 3)]]\n",
            "0 [('access', 1), ('acknowledge', 1), ('act', 1), ('administration', 13), ('advocate', 1), ('affordable', 1), ('ally', 1), ('americans', 1), ('anger', 1), ('annual', 1), ('anticipate', 2), ('appeal', 3), ('appeals', 1), ('appropriate', 2), ('appropriation', 1), ('approval', 1), ('aspect', 1), ('assert', 1), ('authority', 2), ('avoid', 1), ('awkward', 1), ('backlash', 1), ('behalf', 1), ('big', 1), ('billion', 2), ('blando', 1), ('boehner', 1), ('branch', 5), ('broad', 1), ('capitol', 1), ('care', 8), ('cascading', 1), ('case', 4), ('cause', 2), ('central', 1), ('challenge', 1), ('champion', 1), ('chaos', 1), ('choose', 2), ('circuit', 1), ('collyer', 3), ('columbia', 1), ('come', 3), ('comment', 1), ('committee', 1), ('complicated', 1), ('conceivably', 1), ('concept', 1), ('confidence', 1), ('confident', 1), ('congress', 5), ('congressional', 3), ('consequence', 1), ('conservative', 1), ('consider', 1), ('constitution', 3), ('consumer', 1), ('contend', 1), ('continue', 1), ('control', 1), ('cost', 2), ('court', 2), ('coverage', 1), ('currently', 1), ('deal', 1), ('decision', 2), ('deductible', 1), ('defend', 1), ('demand', 1), ('department', 2), ('desperate', 1), ('despite', 1), ('destabilize', 1), ('devastating', 1), ('dim', 1), ('discuss', 1), ('dismiss', 1), ('dispute', 3), ('distribute', 1), ('district', 1), ('divulge', 1), ('dollar', 1), ('donald', 1), ('drop', 1), ('dynamic', 1), ('eager', 1), ('effect', 2), ('effort', 1), ('election', 1), ('eligible', 1), ('end', 1), ('entire', 1), ('era', 1), ('estimate', 1), ('evaluate', 1), ('exchange', 1), ('executive', 5), ('exit', 1), ('expert', 1), ('fear', 1), ('february', 1), ('fight', 3), ('find', 2), ('flaw', 1), ('funding', 1), ('future', 1), ('gain', 1), ('game', 1), ('generally', 1), ('government', 1), ('halt', 1), ('handing', 1), ('handle', 1), ('happen', 1), ('health', 11), ('hill', 1), ('house', 18), ('huge', 1), ('illustrate', 1), ('implode', 1), ('important', 1), ('inappropriate', 1), ('inauguration', 1), ('incline', 1), ('incoming', 1), ('individual', 1), ('initially', 2), ('insurance', 5), ('insurer', 2), ('internal', 1), ('intervene', 1), ('involve', 1), ('issue', 2), ('jan', 1), ('john', 1), ('judge', 3), ('justice', 1), ('lack', 1), ('late', 1), ('later', 1), ('law', 4), ('lawsuit', 2), ('lawyer', 3), ('lead', 2), ('leadership', 1), ('leave', 1), ('legal', 2), ('leverage', 1), ('limbo', 1), ('litigation', 1), ('longer', 1), ('lose', 1), ('loss', 2), ('market', 1), ('matter', 3), ('million', 1), ('money', 2), ('month', 2), ('mount', 1), ('nation', 1), ('new', 2), ('obama', 5), ('office', 1), ('official', 1), ('option', 1), ('outcome', 1), ('overarch', 1), ('participant', 1), ('pass', 1), ('pay', 1), ('payment', 1), ('pende', 1), ('people', 1), ('permanent', 1), ('phillip', 1), ('pileup', 1), ('place', 1), ('political', 2), ('position', 1), ('possibility', 1), ('potential', 1), ('potentially', 1), ('power', 3), ('precedent', 2), ('predict', 1), ('prepare', 1), ('prerogative', 1), ('preserve', 1), ('presidential', 1), ('pressure', 1), ('prevail', 1), ('proceeding', 1), ('produce', 1), ('program', 3), ('prop', 1), ('proper', 1), ('prosecute', 1), ('provide', 2), ('purse', 1), ('question', 1), ('quick', 2), ('quickly', 1), ('race', 1), ('ready', 1), ('receive', 2), ('reduction', 1), ('regard', 1), ('relate', 1), ('remain', 1), ('repercussion', 1), ('replacement', 1), ('report', 1), ('republican', 2), ('republicans', 15), ('request', 1), ('require', 3), ('resolution', 1), ('resolve', 1), ('restore', 1), ('reverse', 1), ('right', 1), ('rosemary', 1), ('rule', 1), ('ruling', 1), ('seek', 4), ('set', 2), ('settle', 1), ('share', 1), ('skepticism', 1), ('speaker', 1), ('spend', 3), ('spending', 3), ('spokesman', 1), ('spur', 1), ('standing', 3), ('states', 1), ('stave', 1), ('stop', 1), ('strategy', 1), ('subsidy', 7), ('successfully', 1), ('sudden', 1), ('suddenly', 1), ('sue', 3), ('suit', 2), ('sum', 1), ('suspension', 1), ('system', 1), ('team', 3), ('tell', 1), ('temporarily', 1), ('temporary', 1), ('time', 2), ('total', 1), ('transition', 3), ('treasury', 1), ('trump', 9), ('twist', 1), ('ugly', 1), ('united', 1), ('victory', 2), ('view', 2), ('vigorous', 1), ('violate', 1), ('violation', 1), ('voter', 1), ('want', 2), ('washington', 1), ('white', 3), ('widespread', 1), ('win', 2), ('worry', 1), ('year', 1)]\n",
            "1 [('access', 1), ('acknowledge', 1), ('advocate', 1), ('ally', 1), ('authority', 2), ('avoid', 1), ('care', 1), ('case', 18), ('cause', 2), ('challenge', 1), ('choose', 1), ('come', 8), ('comment', 1), ('confident', 1), ('court', 2), ('deal', 2), ('decision', 1), ('defend', 1), ('department', 14), ('desperate', 1), ('district', 4), ('drop', 3), ('effect', 1), ('effort', 3), ('end', 4), ('era', 2), ('fear', 2), ('fight', 3), ('find', 4), ('government', 1), ('handle', 5), ('happen', 2), ('house', 4), ('judge', 1), ('lack', 1), ('late', 3), ('later', 6), ('law', 2), ('lawsuit', 1), ('lawyer', 1), ('lead', 1), ('leave', 4), ('market', 2), ('money', 2), ('month', 4), ('new', 12), ('office', 4), ('pay', 2), ('payment', 1), ('people', 19), ('place', 3), ('pressure', 3), ('prop', 1), ('proper', 1), ('prosecute', 1), ('provide', 1), ('race', 1), ('remain', 2), ('report', 8), ('request', 1), ('resolve', 1), ('right', 1), ('spur', 1), ('standing', 1), ('states', 1), ('stop', 5), ('strategy', 1), ('system', 1), ('tell', 5), ('time', 4), ('united', 1), ('view', 2), ('want', 6), ('washington', 1), ('white', 1), ('win', 3), ('worry', 1), ('year', 29), ('ability', 1), ('accord', 2), ('account', 1), ('action', 1), ('activity', 2), ('add', 1), ('addict', 1), ('additional', 1), ('advise', 1), ('affect', 1), ('afraid', 1), ('age', 1), ('aged', 1), ('aggressive', 1), ('ago', 3), ('agree', 1), ('ain', 1), ('alert', 1), ('alexander', 1), ('allocate', 1), ('allow', 1), ('alongside', 1), ('anachronism', 1), ('analysis', 2), ('announce', 1), ('answer', 7), ('apartment', 6), ('appear', 2), ('appearance', 1), ('approach', 1), ('area', 4), ('argenis', 1), ('army', 2), ('arrest', 8), ('arrive', 1), ('art', 1), ('ashe', 1), ('ask', 3), ('assault', 1), ('assign', 2), ('assignment', 1), ('association', 1), ('attack', 2), ('attempt', 1), ('attention', 2), ('attorney', 3), ('august', 1), ('aunt', 1), ('avenue', 2), ('average', 2), ('away', 2), ('backpack', 1), ('backward', 1), ('bad', 1), ('badg', 1), ('bag', 1), ('band', 1), ('beat', 2), ('believe', 2), ('bend', 1), ('betances', 5), ('better', 1), ('bicycle', 1), ('bike', 1), ('bill', 1), ('black', 3), ('blasio', 2), ('block', 2), ('blood', 2), ('bloods', 1), ('bloomberg', 1), ('blow', 3), ('body', 2), ('borough', 4), ('boss', 5), ('bottle', 1), ('box', 1), ('boy', 3), ('boyce', 3), ('brawl', 1), ('break', 1), ('breeze', 1), ('brian', 1), ('briefly', 1), ('bring', 5), ('broadly', 1), ('bronx', 24), ('brooklyn', 6), ('build', 2), ('building', 5), ('bullet', 1), ('bulletproof', 1), ('burden', 2), ('burn', 1), ('business', 1), ('bust', 1), ('busy', 1), ('buy', 3), ('cadre', 1), ('calculation', 1), ('caller', 1), ('calm', 1), ('camera', 3), ('campaign', 1), ('candle', 1), ('car', 2), ('card', 1), ('carry', 5), ('caseload', 1), ('casework', 1), ('cast', 1), ('catch', 3), ('cell', 1), ('centralized', 1), ('chair', 1), ('chance', 1), ('channel', 1), ('charge', 4), ('chase', 1), ('chasm', 1), ('chief', 4), ('child', 1), ('chinese', 1), ('choice', 2), ('city', 25), ('citywide', 3), ('civil', 1), ('civilian', 1), ('clark', 1), ('clear', 3), ('clinic', 2), ('close', 3), ('closely', 1), ('cloud', 1), ('club', 1), ('cocaine', 1), ('code', 2), ('cold', 2), ('collect', 1), ('command', 4), ('commander', 3), ('commissioner', 3), ('community', 9), ('compare', 4), ('complain', 1), ('complaint', 12), ('complete', 1), ('complex', 1), ('computer', 2), ('concern', 1), ('conduct', 1), ('confidential', 1), ('confuse', 1), ('constantly', 1), ('contract', 1), ('contrast', 1), ('conversation', 2), ('conviction', 1), ('cooperate', 5), ('cooperator', 1), ('coordination', 2), ('cop', 2), ('corner', 2), ('cough', 1), ('council', 1), ('counselor', 1), ('count', 1), ('counterterrorism', 2), ('country', 2), ('couple', 1), ('course', 1), ('courthouse', 1), ('courtlandt', 1), ('cover', 2), ('cower', 1), ('create', 1), ('credibility', 1), ('credit', 1), ('crew', 4), ('crime', 23), ('criminal', 2), ('crowd', 1), ('cry', 1), ('culture', 1), ('customer', 2), ('cut', 1), ('danger', 2), ('dangerous', 1), ('darcel', 1), ('dark', 1), ('datum', 3), ('daughter', 6), ('day', 7), ('dead', 1), ('deadly', 1), ('dealer', 3), ('dealing', 1), ('death', 1), ('decide', 1), ('decline', 1), ('dedicate', 1), ('defense', 1), ('deployment', 2), ('deputy', 2), ('deserve', 1), ('design', 1), ('desk', 2), ('detail', 2), ('detective', 43), ('detectives', 1), ('diaz', 1), ('didn', 1), ('different', 2), ('differently', 1), ('difficult', 2), ('direction', 1), ('discard', 1), ('disciplining', 1), ('discretion', 1), ('disorder', 1), ('disparity', 2), ('distraction', 1), ('distressed', 1), ('document', 2), ('domestic', 1), ('don', 3), ('door', 11), ('dope', 1), ('downgrade', 2), ('dozen', 2), ('draw', 2), ('drink', 1), ('drive', 1), ('drug', 13), ('dry', 1), ('dysfunction', 1), ('early', 2), ('east', 6), ('easy', 2), ('edge', 1), ('elect', 1), ('email', 1), ('embitter', 1), ('emerge', 1), ('employ', 1), ('encounter', 1), ('endowment', 1), ('enhance', 1), ('enrol', 1), ('equip', 1), ('espada', 1), ('eventually', 1), ('evidence', 1), ('example', 2), ('exist', 1), ('existence', 1), ('explain', 1), ('extend', 1), ('extensive', 1), ('extreme', 1), ('fail', 2), ('faith', 3), ('fall', 1), ('family', 8), ('far', 1), ('fatal', 1), ('fatherless', 1), ('fearful', 1), ('feed', 1), ('feel', 6), ('felony', 7), ('fernandez', 27), ('fetid', 1), ('feud', 1), ('file', 2), ('fire', 1), ('firearm', 1), ('fix', 1), ('fixing', 1), ('flare', 1), ('flashing', 1), ('flee', 1), ('flood', 1), ('floodlight', 1), ('flourish', 1), ('flux', 1), ('focus', 1), ('fold', 1), ('footage', 1), ('force', 4), ('forgiving', 1), ('forgotten', 1), ('freedom', 1), ('fresh', 1), ('friend', 4), ('friendly', 1), ('frisk', 2), ('frustration', 1), ('gang', 8), ('gap', 1), ('generate', 1), ('gentrification', 1), ('giacalone', 1), ('glitter', 1), ('god', 1), ('gola', 1), ('grab', 1), ('graffiti', 1), ('gramercy', 2), ('grand', 1), ('grapple', 1), ('grave', 1), ('great', 1), ('grieve', 1), ('grievous', 1), ('ground', 1), ('grow', 5), ('guidance', 2), ('gun', 6), ('gunfire', 1), ('gunman', 1), ('gunshot', 1), ('guy', 1), ('half', 1), ('hallmark', 1), ('hallway', 7), ('hammer', 1), ('hand', 2), ('handful', 1), ('harass', 1), ('harassment', 1), ('hard', 1), ('hardest', 1), ('hark', 1), ('harlem', 1), ('haven', 2), ('head', 2), ('headache', 1), ('headquarters', 2), ('hear', 4), ('heaviness', 1), ('heavy', 1), ('hector', 1), ('height', 1), ('heights', 1), ('help', 13), ('hennessy', 3), ('high', 4), ('hint', 1), ('hire', 3), ('hispanic', 1), ('historically', 1), ('hit', 2), ('hobble', 1), ('hold', 3), ('home', 4), ('homeless', 1), ('homicide', 8), ('hope', 3), ('hospital', 1), ('hound', 1), ('hour', 4), ('houses', 5), ('housing', 4), ('howard', 1), ('hypodermic', 1), ('ignore', 3), ('illness', 2), ('immigrant', 1), ('impartial', 1), ('implicate', 1), ('improve', 1), ('inadequate', 1), ('inclined', 1), ('include', 1), ('increasingly', 1), ('inequity', 1), ('information', 2), ('infraction', 1), ('inhaler', 1), ('inheritance', 1), ('initial', 1), ('injury', 1), ('inquiry', 1), ('inside', 1), ('inspector', 5), ('instinct', 1), ('interview', 3), ('intimidate', 1), ('investigate', 4), ('investigation', 2), ('investigative', 2), ('investigator', 5), ('island', 5), ('james', 3), ('january', 2), ('jeff', 1), ('jerry', 1), ('job', 1), ('join', 1), ('joseph', 1), ('juror', 1), ('justify', 1), ('kelly', 1), ('key', 1), ('kill', 2), ('killer', 2), ('killing', 3), ('kind', 1), ('know', 4), ('label', 1), ('land', 1), ('landesberg', 1), ('laptop', 1), ('larceny', 1), ('largely', 1), ('learn', 3), ('level', 1), ('lewis', 1), ('life', 1), ('light', 2), ('like', 14), ('linger', 1), ('list', 1), ('listen', 2), ('little', 1), ('live', 3), ('load', 1), ('lobby', 1), ('local', 3), ('locate', 1), ('lock', 2), ('loft', 1), ('log', 2), ('long', 6), ('longtime', 1), ('look', 2), ('lopuzzo', 6), ('lot', 2), ('low', 2), ('lower', 4), ('maintenance', 1), ('major', 2), ('man', 14), ('manhattan', 13), ('maria', 1), ('marijuana', 2), ('mary', 1), ('mayor', 2), ('mean', 1), ('meantime', 1), ('median', 1), ('meenagh', 1), ('meet', 1), ('memory', 1), ('menacing', 1), ('mental', 1), ('merciless', 1), ('metal', 2), ('methadone', 2), ('michael', 3), ('mile', 1), ('minimal', 1), ('minor', 1), ('minority', 1), ('minute', 1), ('misconduct', 1), ('miss', 2), ('mistrust', 2), ('morale', 2), ('morning', 1), ('mother', 4), ('mott', 1), ('multiple', 1), ('murder', 17), ('muscle', 1), ('narcotic', 3), ('near', 2), ('nearly', 1), ('need', 4), ('needle', 1), ('neglect', 1), ('neighbor', 1), ('neighborhood', 11), ('neill', 2), ('newly', 1), ('newspaper', 1), ('nonfatal', 1), ('note', 6), ('november', 1), ('number', 4), ('obstacle', 1), ('obtain', 1), ('occasionally', 1), ('oct', 1), ('october', 1), ('offer', 1), ('officer', 34), ('old', 2), ('online', 1), ('open', 2), ('operation', 1), ('opposite', 1), ('outer', 1), ('outside', 6), ('overall', 1), ('overcome', 1), ('overflow', 1), ('overlook', 1), ('overscrutinize', 1), ('packing', 1), ('paint', 1), ('palladino', 1), ('paper', 2), ('paperwork', 1), ('paradox', 1), ('paralyze', 1), ('paraphernalia', 1), ('parent', 2), ('park', 4), ('parking', 1), ('past', 1), ('patrice', 1), ('patrol', 2), ('pattern', 1), ('peephole', 1), ('peer', 1), ('percent', 11), ('perception', 1), ('period', 3), ('permission', 1), ('personal', 1), ('personnel', 2), ('phone', 2), ('play', 1), ('playground', 1), ('plea', 2), ('police', 36), ('policing', 3), ('politician', 1), ('poor', 2), ('post', 2), ('pound', 1), ('practice', 1), ('precinct', 59), ('predominantly', 1), ('presage', 1), ('present', 2), ('president', 1), ('prestigious', 1), ('prevalence', 1), ('preventive', 1), ('prime', 1), ('priority', 1), ('prison', 1), ('proactive', 1), ('probably', 1), ('problem', 4), ('process', 1), ('project', 2), ('property', 1), ('prosecution', 1), ('prosecutor', 2), ('protect', 4), ('protection', 2), ('prove', 1), ('psa', 1), ('public', 3), ('punish', 1), ('push', 1), ('queens', 5), ('quiet', 1), ('quieter', 1), ('quote', 1), ('rape', 2), ('rarely', 2), ('rate', 5), ('rattle', 1), ('raymond', 1), ('reality', 1), ('reason', 2), ('reassess', 1), ('recent', 3), ('recommend', 1), ('record', 2), ('refer', 1), ('reflect', 1), ('refuse', 3), ('regular', 1), ('relation', 1), ('relative', 1), ('relentless', 1), ('relief', 1), ('relieve', 1), ('reluctant', 1), ('rely', 1), ('remind', 1), ('remove', 1), ('rent', 1), ('repeat', 1), ('resident', 5), ('residential', 1), ('residue', 2), ('resistance', 2), ('resource', 4), ('respond', 1), ('response', 3), ('restructuring', 1), ('result', 1), ('resume', 1), ('retaliation', 1), ('retire', 2), ('retribution', 1), ('return', 1), ('reveal', 1), ('ride', 1), ('rikers', 1), ('ring', 1), ('rise', 1), ('risk', 3), ('river', 1), ('robber', 1), ('robbery', 6), ('robert', 1), ('robust', 1), ('roll', 1), ('rookie', 1), ('room', 2), ('rosado', 1), ('roughly', 1), ('routinely', 1), ('ruben', 1), ('ruckus', 1), ('run', 1), ('rush', 1), ('russell', 1), ('saddle', 2), ('safely', 1), ('safety', 1), ('sale', 1), ('scan', 1), ('scandal', 2), ('scant', 1), ('scatter', 1), ('scene', 2), ('school', 4), ('second', 1), ('secret', 1), ('security', 1), ('send', 4), ('separately', 1), ('september', 2), ('sergeant', 7), ('service', 1), ('sgt', 1), ('sharp', 1), ('shaughnessy', 1), ('shell', 1), ('shift', 2), ('shoot', 4), ('shooting', 5), ('shorthand', 1), ('shout', 1), ('shrink', 2), ('silos', 1), ('similar', 1), ('simmer', 1), ('single', 1), ('sit', 2), ('situation', 2), ('skeptical', 1), ('slam', 1), ('slap', 1), ('slash', 1), ('sling', 1), ('slip', 1), ('small', 3), ('smoke', 3), ('snitch', 2), ('social', 1), ('solve', 3), ('son', 5), ('sort', 1), ('south', 5), ('southern', 3), ('spawn', 1), ('speak', 2), ('specialized', 1), ('spill', 1), ('splintered', 1), ('spokeswoman', 1), ('squad', 14), ('square', 3), ('squeeze', 1), ('stabbing', 1), ('staff', 1), ('staffing', 5), ('standard', 1), ('start', 3), ('startling', 1), ('stash', 1), ('statement', 1), ('staten', 4), ('station', 4), ('stay', 2), ('steal', 1), ('stem', 2), ('stick', 1), ('stoop', 1), ('story', 2), ('straight', 1), ('strain', 1), ('streamline', 1), ('street', 7), ('strew', 1), ('string', 1), ('strip', 1), ('struggle', 1), ('studio', 1), ('stuffy', 1), ('style', 1), ('subset', 1), ('substation', 6), ('suffer', 1), ('sullivan', 2), ('summer', 5), ('summon', 3), ('supervisor', 2), ('support', 1), ('sure', 2), ('surpass', 1), ('surveillance', 2), ('suspect', 2), ('sweep', 2), ('tactic', 2), ('takedown', 1), ('takeout', 1), ('tale', 1), ('talk', 5), ('tall', 1), ('tape', 1), ('target', 2), ('task', 1), ('tatter', 1), ('tech', 1), ('teenager', 2), ('tenth', 1), ('terrible', 1), ('testify', 4), ('therapist', 2), ('thin', 1), ('thing', 1), ('think', 1), ('threat', 4), ('threaten', 1), ('tick', 2), ('ticket', 3), ('tide', 1), ('tie', 2), ('times', 3), ('tip', 3), ('tirelessly', 1), ('today', 1), ('trail', 1), ('troubled', 1), ('trust', 2), ('try', 5), ('turn', 6), ('twice', 1), ('typically', 1), ('unanswered', 1), ('unchanged', 1), ('underfunde', 1), ('underground', 1), ('understaffe', 1), ('understaffing', 1), ('understand', 1), ('unencumbered', 1), ('union', 2), ('unit', 5), ('unlikely', 1), ('unsolved', 3), ('upper', 1), ('upstairs', 1), ('urban', 1), ('urn', 1), ('use', 4), ('usual', 1), ('vest', 1), ('veteran', 1), ('vice', 1), ('vicious', 1), ('victim', 11), ('video', 4), ('violence', 4), ('violent', 9), ('visit', 1), ('votive', 1), ('vow', 1), ('wait', 2), ('walk', 5), ('wander', 1), ('ward', 1), ('warn', 1), ('warp', 1), ('watch', 2), ('wave', 1), ('way', 4), ('wealthy', 1), ('weapon', 1), ('weed', 1), ('week', 2), ('wheel', 1), ('whiter', 1), ('wife', 5), ('wilt', 1), ('window', 2), ('wire', 1), ('wish', 1), ('witness', 6), ('woman', 2), ('wooden', 1), ('work', 12), ('worker', 1), ('workload', 1), ('worsen', 1), ('wound', 1), ('write', 5), ('yellow', 1), ('york', 7), ('young', 8)]\n",
            "2 [('act', 2), ('administration', 1), ('aspect', 1), ('care', 1), ('case', 1), ('cause', 1), ('choose', 1), ('come', 2), ('consider', 1), ('continue', 1), ('effect', 1), ('end', 1), ('find', 5), ('gain', 1), ('happen', 1), ('house', 3), ('huge', 1), ('involve', 1), ('jan', 1), ('john', 1), ('lack', 1), ('late', 1), ('later', 3), ('law', 2), ('leave', 2), ('lose', 1), ('loss', 1), ('month', 3), ('new', 3), ('official', 1), ('pass', 2), ('people', 2), ('place', 1), ('question', 3), ('quickly', 2), ('remain', 1), ('seek', 4), ('spend', 1), ('states', 6), ('tell', 1), ('time', 2), ('united', 6), ('want', 2), ('white', 1), ('year', 9), ('account', 1), ('add', 1), ('allow', 1), ('answer', 2), ('appear', 1), ('appearance', 1), ('arrive', 1), ('art', 9), ('attack', 1), ('attempt', 1), ('beat', 1), ('bring', 2), ('building', 1), ('buy', 1), ('card', 1), ('chance', 2), ('child', 4), ('chinese', 10), ('clear', 1), ('country', 2), ('create', 4), ('credit', 1), ('cry', 1), ('daughter', 2), ('day', 2), ('death', 3), ('decline', 1), ('design', 4), ('detail', 2), ('different', 2), ('direction', 2), ('document', 1), ('dozen', 1), ('draw', 2), ('early', 1), ('explain', 1), ('family', 4), ('far', 1), ('feel', 1), ('fire', 3), ('flourish', 1), ('friend', 2), ('great', 1), ('gunfire', 1), ('half', 1), ('hallmark', 1), ('hand', 1), ('hard', 1), ('help', 1), ('high', 2), ('hold', 1), ('home', 1), ('hope', 2), ('immigrant', 4), ('include', 5), ('inspector', 1), ('interview', 3), ('island', 7), ('job', 2), ('join', 4), ('kill', 1), ('know', 5), ('land', 1), ('largely', 1), ('learn', 1), ('level', 1), ('life', 5), ('like', 5), ('linger', 1), ('little', 1), ('live', 3), ('long', 3), ('longtime', 1), ('look', 6), ('lower', 1), ('major', 2), ('man', 1), ('manhattan', 1), ('mean', 1), ('mother', 4), ('nearly', 1), ('need', 1), ('newly', 2), ('newspaper', 1), ('note', 1), ('number', 2), ('oct', 1), ('open', 3), ('overlook', 1), ('paint', 5), ('paper', 6), ('president', 1), ('property', 1), ('public', 3), ('reason', 2), ('record', 1), ('relative', 3), ('resident', 1), ('return', 1), ('scene', 2), ('school', 4), ('second', 1), ('send', 1), ('separately', 1), ('shoot', 1), ('similar', 1), ('small', 3), ('son', 5), ('southern', 1), ('staff', 1), ('start', 1), ('station', 1), ('stay', 1), ('street', 1), ('studio', 8), ('style', 2), ('summer', 1), ('terrible', 1), ('think', 1), ('today', 1), ('try', 2), ('use', 2), ('video', 1), ('wife', 1), ('window', 2), ('work', 15), ('write', 1), ('york', 1), ('young', 4), ('able', 1), ('acclaim', 1), ('adamantly', 1), ('adapt', 1), ('admission', 1), ('adult', 1), ('affair', 1), ('afford', 1), ('affront', 1), ('afterward', 3), ('airworthy', 1), ('america', 2), ('american', 2), ('americanize', 1), ('amid', 1), ('andrews', 1), ('angel', 4), ('angeles', 5), ('angry', 1), ('animate', 2), ('animated', 2), ('animation', 5), ('animator', 1), ('annette', 1), ('apart', 1), ('architectural', 1), ('arrange', 1), ('arrival', 3), ('arthur', 1), ('artist', 13), ('artistic', 1), ('artists', 3), ('asian', 1), ('asians', 1), ('aspirant', 1), ('assume', 1), ('astonishing', 1), ('atmospheric', 1), ('attend', 1), ('attune', 1), ('austrian', 1), ('author', 1), ('aware', 1), ('background', 4), ('bambi', 8), ('barely', 1), ('baroque', 1), ('bay', 1), ('bear', 2), ('begin', 2), ('belatedly', 1), ('benji', 1), ('bestow', 1), ('bin', 1), ('birth', 1), ('bitter', 1), ('blue', 1), ('boardinghouse', 2), ('book', 3), ('brooding', 1), ('brothel', 1), ('brothers', 3), ('brush', 2), ('bunch', 1), ('butcher', 1), ('butterfly', 1), ('button', 1), ('cafeteria', 1), ('calif', 1), ('california', 2), ('calligrapher', 1), ('calligraphy', 1), ('calling', 1), ('camouflage', 1), ('camp', 1), ('canemaker', 5), ('canvas', 1), ('capitalize', 1), ('career', 1), ('celebrated', 1), ('cent', 1), ('center', 1), ('centipede', 1), ('century', 1), ('character', 2), ('chester', 1), ('chicago', 1), ('christmas', 1), ('chronic', 1), ('chronicle', 1), ('circumvent', 1), ('citizen', 2), ('claim', 1), ('climate', 1), ('coach', 1), ('coast', 1), ('collector', 1), ('college', 1), ('color', 2), ('coloring', 1), ('company', 2), ('confine', 1), ('confirm', 1), ('constrain', 1), ('contemplate', 1), ('contribution', 2), ('crazy', 1), ('creation', 1), ('creature', 1), ('critic', 1), ('curate', 1), ('curtail', 1), ('dec', 1), ('decade', 2), ('december', 1), ('deception', 1), ('deep', 1), ('deer', 1), ('dementia', 1), ('den', 1), ('deportation', 1), ('desaturated', 1), ('designer', 1), ('destroy', 1), ('detain', 1), ('die', 2), ('dinnerware', 1), ('dip', 1), ('direct', 1), ('director', 1), ('discrimination', 1), ('disney', 15), ('disperse', 1), ('documentary', 1), ('dossier', 1), ('drastically', 1), ('drawing', 4), ('dwarfs', 1), ('dynasty', 2), ('earlier', 1), ('earn', 1), ('earthquake', 1), ('economic', 1), ('eld', 2), ('elegant', 1), ('elementary', 1), ('ellis', 2), ('embark', 1), ('employee', 1), ('encourage', 3), ('endure', 2), ('enjoy', 1), ('ensue', 1), ('ensure', 1), ('enter', 1), ('entirely', 1), ('entitle', 1), ('envision', 1), ('epithet', 1), ('error', 1), ('exclusion', 1), ('exhibit', 1), ('exhibition', 2), ('exposure', 1), ('exquisite', 1), ('extent', 1), ('face', 1), ('fact', 2), ('false', 1), ('fantastical', 1), ('farming', 1), ('father', 12), ('fawn', 1), ('feature', 1), ('felix', 1), ('figure', 2), ('film', 7), ('filmmaker', 1), ('fine', 1), ('finished', 1), ('fledgling', 1), ('fling', 1), ('flock', 1), ('flower', 1), ('follow', 1), ('fong', 1), ('foot', 1), ('forest', 2), ('form', 1), ('formal', 1), ('formidable', 1), ('forsook', 1), ('fortune', 1), ('found', 1), ('francisco', 4), ('fred', 1), ('friday', 1), ('funicello', 1), ('gaing', 1), ('gambling', 1), ('gee', 2), ('gen', 8), ('general', 1), ('generation', 1), ('ghostly', 1), ('goal', 1), ('gold', 1), ('good', 1), ('graduate', 1), ('grandchild', 1), ('group', 3), ('guangdong', 1), ('hadn', 1), ('harbor', 1), ('hate', 1), ('haunt', 1), ('heritage', 1), ('historian', 1), ('hollywood', 3), ('honor', 1), ('houseboy', 2), ('hunter', 1), ('identity', 1), ('ill', 1), ('illustration', 2), ('illustrator', 1), ('immigration', 5), ('impasse', 1), ('impose', 1), ('inaugural', 1), ('incarceration', 1), ('indefinite', 1), ('indifferent', 1), ('indignity', 1), ('influence', 3), ('inform', 2), ('ink', 1), ('inquire', 1), ('inquisition', 1), ('inspiration', 1), ('inspirational', 2), ('inspire', 1), ('institute', 3), ('intermediate', 1), ('internment', 1), ('interpreter', 1), ('interrogate', 2), ('interrogation', 2), ('invoke', 1), ('irrevocable', 1), ('isolation', 1), ('iwo', 1), ('janitor', 1), ('japanese', 1), ('jima', 1), ('julie', 1), ('junior', 2), ('kay', 1), ('keenly', 1), ('kim', 2), ('kite', 1), ('kitemaker', 1), ('klee', 1), ('lake', 1), ('landscape', 5), ('lapel', 1), ('laundryman', 1), ('lay', 2), ('leading', 1), ('leaf', 1), ('legend', 1), ('lend', 2), ('lest', 1), ('let', 3), ('library', 1), ('limit', 1), ('line', 1), ('lisa', 1), ('lone', 1), ('loophole', 1), ('los', 5), ('love', 2), ('lush', 1), ('lyrical', 1), ('macmurray', 1), ('maintain', 1), ('maker', 1), ('march', 1), ('marginalization', 1), ('mark', 1), ('married', 1), ('match', 1), ('matisse', 1), ('member', 1), ('memorize', 1), ('menial', 1), ('merchant', 1), ('mere', 1), ('meticulously', 1), ('miserable', 2), ('mistake', 1), ('misty', 1), ('modernist', 1), ('moody', 1), ('mountain', 1), ('movement', 2), ('municipal', 1), ('museum', 5), ('music', 1), ('mysterious', 1), ('narrative', 1), ('nature', 1), ('nightly', 1), ('nonfiction', 1), ('noteworthy', 1), ('novel', 1), ('novelty', 1), ('obituary', 1), ('oblige', 1), ('occasion', 1), ('okubo', 2), ('organize', 1), ('oriental', 2), ('ornate', 1), ('otis', 3), ('outdoor', 1), ('outstanding', 1), ('owl', 1), ('painstaking', 1), ('painter', 4), ('painting', 4), ('palette', 1), ('pamela', 1), ('pasadena', 1), ('pastel', 1), ('paul', 1), ('pearl', 1), ('permanently', 1), ('person', 1), ('petal', 1), ('phase', 1), ('picasso', 1), ('picture', 1), ('pose', 2), ('possibly', 1), ('poverty', 1), ('praise', 1), ('premiere', 1), ('prepared', 1), ('presence', 1), ('previous', 1), ('previously', 1), ('printmaker', 1), ('proclaim', 1), ('production', 2), ('professional', 1), ('progress', 1), ('promote', 1), ('prospect', 2), ('province', 1), ('quality', 3), ('racial', 1), ('rank', 1), ('reach', 1), ('rebel', 1), ('recall', 3), ('recipient', 1), ('recognition', 3), ('render', 1), ('renowned', 2), ('repetitive', 1), ('represent', 1), ('reprieve', 1), ('resentment', 1), ('restriction', 1), ('retirement', 2), ('retrospective', 3), ('rice', 1), ('rigorous', 2), ('romanize', 1), ('ruth', 2), ('sacramento', 2), ('salten', 1), ('san', 4), ('sands', 1), ('sandwich', 1), ('scared', 1), ('scenery', 1), ('scholarship', 2), ('schoolteacher', 1), ('scrape', 1), ('sea', 1), ('sell', 1), ('separate', 1), ('separation', 1), ('sequence', 1), ('series', 2), ('seven', 1), ('severe', 1), ('shop', 2), ('sight', 1), ('sign', 2), ('silhouette', 1), ('simple', 1), ('simultaneously', 1), ('sister', 1), ('sketch', 2), ('sky', 3), ('slowly', 1), ('snow', 1), ('song', 2), ('soon', 1), ('space', 1), ('spare', 2), ('special', 1), ('specifically', 1), ('split', 1), ('sponsoring', 1), ('spy', 1), ('stand', 1), ('stark', 1), ('state', 1), ('steady', 1), ('stenographer', 1), ('storyboard', 1), ('streak', 1), ('strike', 3), ('stroke', 1), ('student', 2), ('study', 1), ('subject', 2), ('subtly', 1), ('success', 1), ('suggest', 1), ('sunland', 2), ('suppose', 1), ('survivor', 1), ('swallow', 1), ('tai', 3), ('talent', 2), ('teacher', 2), ('thousand', 2), ('title', 1), ('tom', 2), ('trace', 1), ('train', 2), ('travel', 4), ('tree', 2), ('truly', 1), ('tuition', 1), ('tyrus', 10), ('undergo', 1), ('unforeseen', 1), ('university', 1), ('unknown', 1), ('unmistakable', 1), ('unofficially', 1), ('vastly', 1), ('vibrant', 1), ('village', 3), ('visual', 1), ('wake', 1), ('walt', 3), ('war', 3), ('warner', 3), ('wars', 1), ('water', 3), ('watercolor', 1), ('wear', 1), ('weather', 1), ('welcome', 1), ('west', 1), ('wide', 1), ('widely', 1), ('wild', 1), ('wong', 37), ('wongs', 1), ('woods', 1), ('works', 1), ('world', 2), ('writer', 1), ('yeo', 8), ('yoo', 1), ('yow', 3)]\n"
          ],
          "name": "stdout"
        }
      ]
    },
    {
      "cell_type": "code",
      "metadata": {
        "id": "9SK2qbxBRu5T"
      },
      "source": [
        "from operator import itemgetter\n",
        "def search_similar_articles(search_term, dictionary, tfidf_model, lsi_model):\n",
        "\n",
        "    query_bow = dictionary.doc2bow(spacy_tokenizer(search_term))\n",
        "    query_tfidf = tfidf_model[query_bow]\n",
        "    query_lsi = lsi_model[query_tfidf]\n",
        "\n",
        "    article_index.num_best = 5\n",
        "    articles_list = article_index[query_lsi]\n",
        "\n",
        "    articles_list.sort(key=itemgetter(1), reverse=True)\n",
        "    article_names = []\n",
        "\n",
        "    for j, article in enumerate(articles_list):\n",
        "\n",
        "        article_names.append (\n",
        "            {\n",
        "                'Relevance': round((article[1] * 100),2),\n",
        "                'Article Title': df_articles['title'][article[0]],\n",
        "                'Article Plot': df_articles['wiki_plot'][article[0]]\n",
        "            }\n",
        "\n",
        "        )\n",
        "        if j == (article_index.num_best-1):\n",
        "            break\n",
        "    return pd.DataFrame(article_names, columns=['Relevance','Article Title','Article Plot'])"
      ],
      "execution_count": null,
      "outputs": []
    },
    {
      "cell_type": "code",
      "metadata": {
        "id": "dZrb1UIqTdO9"
      },
      "source": [
        "iter=1\n",
        "articles = pd.read_csv('drive/My Drive/1_sm_5511.3196_sec_results.csv')\n",
        "dictionary, tfidf_model, lsi_model = getModels(articles)\n",
        "search_similar_movies('presidential election', dictionary, tfidf_model, lsi_model)"
      ],
      "execution_count": null,
      "outputs": []
    },
    {
      "cell_type": "code",
      "metadata": {
        "id": "UBhAnPQTTlvk"
      },
      "source": [
        ""
      ],
      "execution_count": null,
      "outputs": []
    }
  ]
}